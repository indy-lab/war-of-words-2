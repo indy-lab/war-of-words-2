{
 "cells": [
  {
   "cell_type": "markdown",
   "id": "hidden-phenomenon",
   "metadata": {},
   "source": [
    "# Explicit Features"
   ]
  },
  {
   "cell_type": "code",
   "execution_count": 1,
   "id": "still-development",
   "metadata": {},
   "outputs": [],
   "source": [
    "import json\n",
    "\n",
    "from warofwords import TrainedWarOfWordsLatent\n",
    "\n",
    "LEG = 8\n",
    "\n",
    "\n",
    "def sort_params(group, parameters, features, reverse=True, n=None):\n",
    "    params = [\n",
    "        (feat, parameters[feat])\n",
    "        for feat in features.get_group(group, by_feature_name=True)\n",
    "    ]\n",
    "    if n is None:\n",
    "        n = len(params)\n",
    "    return sorted(params, key=lambda p: p[1], reverse=reverse)[:n]\n",
    "\n",
    "\n",
    "def print_params(group, parameters, features, n=None):\n",
    "    print('###', group.upper(), '\\n')\n",
    "    sortedparams = sort_params(group, parameters, features, n=n)\n",
    "    for name, p in sortedparams:\n",
    "        print(f'{p:+.2f} {name}')\n",
    "    print()\n",
    "\n",
    "\n",
    "def load_json(path):\n",
    "    with open(path, 'r') as f:\n",
    "        return json.load(f)"
   ]
  },
  {
   "cell_type": "markdown",
   "id": "unlike-western",
   "metadata": {},
   "source": [
    "## Load data, parameters, and features"
   ]
  },
  {
   "cell_type": "code",
   "execution_count": 2,
   "id": "mysterious-essence",
   "metadata": {},
   "outputs": [],
   "source": [
    "# Load mapping from dossier to title.\n",
    "titles = load_json('../data/helpers/dossier-titles.json')\n",
    "# Load mapping from dossier to title.\n",
    "meps = load_json('../data/helpers/meps.json')\n",
    "\n",
    "# Load trained model to get parameters and features.\n",
    "models = '../2-training/trained-models'\n",
    "model = f'{models}/ep{LEG}-all_features-latent-text.fit'\n",
    "model = TrainedWarOfWordsLatent.load(model)\n",
    "parameters = model.parameters\n",
    "features = model.features"
   ]
  },
  {
   "cell_type": "markdown",
   "id": "varying-steps",
   "metadata": {},
   "source": [
    "## Analyze MEP, edit, and dossier features"
   ]
  },
  {
   "cell_type": "code",
   "execution_count": 3,
   "id": "radio-mozambique",
   "metadata": {},
   "outputs": [
    {
     "name": "stdout",
     "output_type": "stream",
     "text": [
      "### POLITICAL-GROUP \n",
      "\n",
      "+0.33 Group of the European People's Party\n",
      "+0.30 Group of the Progressive Alliance of Socialists and Democrats in the European Parliament\n",
      "+0.29 Group of the Alliance of Liberals and Democrats for Europe\n",
      "+0.25 Europe of Freedom and Direct Democracy Group\n",
      "+0.16 Group of the Greens/European Free Alliance\n",
      "-0.02 European Conservatives and Reformists Group\n",
      "-0.05 Confederal Group of the European United Left\n",
      "-0.33 Non-attached Members\n",
      "-1.02 Europe of Nations and Freedom Group\n",
      "\n",
      "### NATIONALITY \n",
      "\n",
      "+0.75 Latvia\n",
      "+0.50 Finland\n",
      "+0.44 Slovakia\n",
      "+0.39 Slovenia\n",
      "+0.35 Malta\n",
      "+0.31 Hungary\n",
      "+0.30 Luxembourg\n",
      "+0.30 Romania\n",
      "+0.11 Netherlands\n",
      "+0.08 Denmark\n",
      "+0.06 Germany\n",
      "+0.05 Croatia\n",
      "+0.04 Czech Republic\n",
      "+0.03 Spain\n",
      "+0.02 Austria\n",
      "+0.02 Poland\n",
      "-0.00 Ireland\n",
      "-0.01 Portugal\n",
      "-0.03 Estonia\n",
      "-0.05 Cyprus\n",
      "-0.05 Lithuania\n",
      "-0.07 Greece\n",
      "-0.07 Bulgaria\n",
      "-0.08 Italy\n",
      "-0.10 United Kingdom\n",
      "-0.12 France\n",
      "-0.13 Belgium\n",
      "-0.21 Sweden\n",
      "\n",
      "### GENDER \n",
      "\n",
      "-0.02 F\n",
      "-0.04 M\n",
      "\n",
      "### RAPPORTEUR \n",
      "\n",
      "+1.19 rapporteur\n",
      "\n",
      "### EDIT-LENGTH \n",
      "\n",
      "-0.07 delete-length\n",
      "-0.11 insert-length\n",
      "\n",
      "### JUSTIFICATION \n",
      "\n",
      "+0.08 justification\n",
      "\n",
      "### OUTSIDER \n",
      "\n",
      "+0.16 outsider\n",
      "\n",
      "### ARTICLE-TYPE \n",
      "\n",
      "+1.32 citation\n",
      "+0.43 other\n",
      "+0.29 title\n",
      "+0.28 annex\n",
      "-0.05 recital\n",
      "-0.20 article\n",
      "-0.75 paragraph\n",
      "\n",
      "### EDIT-TYPE \n",
      "\n",
      "-0.03 insert\n",
      "-0.13 delete\n",
      "-0.22 replace\n",
      "\n",
      "### DOSSIER-TYPE \n",
      "\n",
      "+0.33 report\n",
      "-0.26 opinion\n",
      "\n",
      "### LEGAL-ACT \n",
      "\n",
      "+0.25 decision\n",
      "+0.12 directive\n",
      "+0.10 regulation\n",
      "\n",
      "### COMMITTEE \n",
      "\n",
      "+0.85 CJ05\n",
      "+0.82 CJ16\n",
      "+0.54 CJ12\n",
      "+0.38 CJ24\n",
      "+0.37 IMCO\n",
      "+0.36 CJ33\n",
      "+0.33 CJ10\n",
      "+0.30 ITRE\n",
      "+0.25 CJ36\n",
      "+0.24 CJ19\n",
      "+0.22 EMPL\n",
      "+0.15 LIBE\n",
      "+0.13 CJ31\n",
      "+0.11 CJ29\n",
      "-0.01 ECON\n",
      "-0.04 CJ03\n",
      "-0.04 TRAN\n",
      "-0.06 REGI\n",
      "-0.07 AGRI\n",
      "-0.08 CULT\n",
      "-0.11 AFCO\n",
      "-0.12 ENVI\n",
      "-0.14 JURI\n",
      "-0.16 CJ14\n",
      "-0.24 INTA\n",
      "-0.31 CJ32\n",
      "-0.33 AFET\n",
      "-0.40 CJ28\n",
      "-0.53 DEVE\n",
      "-0.60 BUDG\n",
      "-0.64 PETI\n",
      "-0.66 CONT\n",
      "-0.66 FEMM\n",
      "-0.67 PECH\n",
      "-0.97 CJ13\n",
      "\n"
     ]
    }
   ],
   "source": [
    "# Define groups of features to analyze.\n",
    "groups = [\n",
    "    # MEP features.\n",
    "    'political-group',\n",
    "    'nationality',\n",
    "    'gender',\n",
    "    'rapporteur',\n",
    "    # Edit features.\n",
    "    'edit-length',\n",
    "    'justification',\n",
    "    'outsider',\n",
    "    'article-type',\n",
    "    'edit-type',\n",
    "    # Dossier features.\n",
    "    'dossier-type',\n",
    "    'legal-act',\n",
    "    'committee',\n",
    "]\n",
    "for group in groups:\n",
    "    print_params(group, parameters, features)"
   ]
  },
  {
   "cell_type": "markdown",
   "id": "modern-crack",
   "metadata": {},
   "source": [
    "## Analyze dossier controversy"
   ]
  },
  {
   "cell_type": "code",
   "execution_count": 4,
   "id": "super-fairy",
   "metadata": {
    "scrolled": false
   },
   "outputs": [
    {
     "name": "stdout",
     "output_type": "stream",
     "text": [
      "### TOP-10 DOSSIERS\n",
      "\n",
      "PARAM | DOSSIER             | TITLE\n",
      "-----------------------------------\n",
      "+2.02 | A8-0198-2018        | Establishing a framework for screening of foreign direct investments into the European Union\n",
      "+1.96 | ITRE-AD(2016)582103 | Cost-effective emission reductions and low-carbon investments\n",
      "+1.88 | PETI-AD(2019)629635 | Discontinuing seasonal changes of time\n",
      "+1.62 | A8-0289-2018        | Proposal for a regulation of the European Parliament and of the Council on health technology assessment and amending Directive 2011/24/EU\n",
      "+1.51 | A8-0013-2019        | Regulation amending Regulations establishing European Supervisory Authorities and Regulations on financial markets: (EU) No 1093/2010, (EU) No 1094/2010, (EU) No 1095/2010, (EU) No 345/2013, (EU) No 346/2013, (EU) No 600/2014, (EU) 2015/760, (EU) 2016/1011 and (EU) 2017/1129\n",
      "+1.45 | A8-0482-2018        | Establishing the InvestEU Programme\n",
      "+1.39 | A8-0401-2018        | Proposal for a regulation of the European Parliament and of the Council establishing Horizon Europe - the Framework Programme for Research and Innovation, laying down its rules for participation and dissemination\n",
      "+1.39 | A8-0185-2017        | Macro-financial assistance to the Republic of Moldova\n",
      "+1.29 | A8-0174-2019        | Establishing the Instrument for Pre-accession Assistance (IPA III)\n",
      "+1.28 | A8-0245-2018        | Copyright in the Digital Single Market\n",
      "\n",
      "### BOTTOM-10 DOSSIERS\n",
      "\n",
      "-2.28 | TRAN-AD(2018)627831 | Representative actions for the protection of the collective interests of consumers\n",
      "-2.06 | DEVE-AD(2018)626670 | Unfair trading practices in business-to-business relationships in the food supply chain\n",
      "-1.81 | ECON-AD(2018)628491 | Rules facilitating the use of financial and other information for the prevention, detection, investigation or prosecution of certain criminal offences\n",
      "-1.78 | AGRI-AD(2018)623919 | European Regional Development Fund and on the Cohesion Fund\n",
      "-1.78 | BUDG-AD(2018)625574 | Financing, management and monitoring of the common agricultural policy\n",
      "-1.75 | JURI-AD(2018)629601 | Insurance against civil liability in respect of the use of motor vehicles, and the enforcement of the obligation to ensure against such liability\n",
      "-1.69 | AGRI-AD(2017)604528 | Governance of the Energy Union\n",
      "-1.68 | AGRI-AD(2018)623918 | Proposal for a regulation of the European Parliament and of the Council establishing Horizon Europe - the Framework Programme for Research and Innovation, laying down its rules for participation and dissemination\n",
      "-1.66 | DEVE-AD(2017)609284 | Promotion of the use of energy from renewable sources (recast)\n",
      "-1.65 | REGI-AD(2019)629655 | Financing, management and monitoring of the common agricultural policy\n"
     ]
    }
   ],
   "source": [
    "# Print top-10 and bottom-10 dossiers.\n",
    "print('### TOP-10 DOSSIERS\\n')\n",
    "header = f'PARAM | {\"DOSSIER\":<19} | TITLE'\n",
    "print(header)\n",
    "print('-' * len(header))\n",
    "dossiers = sort_params('dossier', parameters, features, reverse=True, n=10)\n",
    "for doss, p in dossiers:\n",
    "    title = titles[doss]\n",
    "    print(f'{p:+.2f} | {doss:<19} | {title}')\n",
    "print('\\n### BOTTOM-10 DOSSIERS\\n')\n",
    "dossiers = sort_params('dossier', parameters, features, reverse=False, n=10)\n",
    "for doss, p in dossiers:\n",
    "    title = titles[doss]\n",
    "    print(f'{p:+.2f} | {doss:<19} | {title}')"
   ]
  },
  {
   "cell_type": "markdown",
   "id": "accepted-negative",
   "metadata": {},
   "source": [
    "## Analyze MEP influence"
   ]
  },
  {
   "cell_type": "code",
   "execution_count": 5,
   "id": "hungarian-peter",
   "metadata": {},
   "outputs": [
    {
     "name": "stdout",
     "output_type": "stream",
     "text": [
      "\n",
      "### MEPS\n",
      "\n",
      "PARAM | NAME                 | NATIONALITY     | POLITICAL GROUP\n",
      "----------------------------------------------------------------\n",
      "+1.65 | Steven WOOLFE        | United Kingdom  | Non-attached Members\n",
      "+1.54 | Janusz KORWIN-MIKKE  | Poland          | Non-attached Members\n",
      "+1.51 | Manuel dos SANTOS    | Portugal        | Group of the Progressive Alliance of Socialists and Democrats in the European Parliament\n",
      "+1.39 | Pedro SILVA PEREIRA  | Portugal        | Group of the Progressive Alliance of Socialists and Democrats in the European Parliament\n",
      "+1.27 | Laurenţiu REBEGA     | Romania         | Europe of Nations and Freedom Group\n",
      "+1.25 | Knut FLECKENSTEIN    | Germany         | Group of the Progressive Alliance of Socialists and Democrats in the European Parliament\n",
      "+1.25 | Arnaud DANJEAN       | France          | Group of the European People's Party\n",
      "+1.20 | Ioan Mircea PAŞCU    | Romania         | Group of the Progressive Alliance of Socialists and Democrats in the European Parliament\n",
      "+1.17 | Claude MORAES        | United Kingdom  | Group of the Progressive Alliance of Socialists and Democrats in the European Parliament\n",
      "+1.13 | Rainer WIELAND       | Germany         | Group of the European People's Party\n"
     ]
    }
   ],
   "source": [
    "# Print top-10 MEPs.\n",
    "print('\\n### MEPS\\n')\n",
    "mep_ids = sort_params('mep', parameters, features, n=10)\n",
    "header = f'PARAM | {\"NAME\":<20} | {\"NATIONALITY\":<15} | POLITICAL GROUP'\n",
    "print(header)\n",
    "print('-' * len(header))\n",
    "for mep_id, p in mep_ids:\n",
    "    mep_id = str(mep_id)\n",
    "    name = meps[mep_id]['name']\n",
    "    grp = meps[mep_id][f'group-ep{LEG}']\n",
    "    nationality = meps[mep_id]['nationality']\n",
    "    print(f'{p:+.2f} | {name:<20} | {nationality:<15} | {grp}')"
   ]
  },
  {
   "cell_type": "markdown",
   "id": "aggregate-representative",
   "metadata": {},
   "source": [
    "## Print parameters of text embeddings"
   ]
  },
  {
   "cell_type": "code",
   "execution_count": 6,
   "id": "religious-professor",
   "metadata": {},
   "outputs": [
    {
     "name": "stdout",
     "output_type": "stream",
     "text": [
      "\n",
      "### TITLE-EMBEDDING \n",
      "\n",
      "[-0.13636603951454163, 0.16064025461673737, 0.1437772959470749, -0.04790971800684929, -0.06381064653396606, -0.13413335382938385, 0.07477857172489166, 0.09877929836511612, 0.016619667410850525, 0.10573480278253555]\n",
      "\n",
      "### EDIT-EMBEDDING \n",
      "\n",
      "[11.98774528503418, -13.799277305603027, -6.817662239074707, 5.438927173614502, 3.900665521621704, 8.195265769958496, -1.1281416416168213, -0.23749855160713196, -3.7958450317382812, -9.426227569580078]\n"
     ]
    }
   ],
   "source": [
    "# Print text embeddings.\n",
    "group = 'title-embedding'\n",
    "print('\\n###', group.upper(), '\\n')\n",
    "print(parameters.get_group(group))\n",
    "group = 'edit-embedding'\n",
    "print('\\n###', group.upper(), '\\n')\n",
    "print(parameters.get_group(group))"
   ]
  }
 ],
 "metadata": {
  "kernelspec": {
   "display_name": "Python 3",
   "language": "python",
   "name": "python3"
  },
  "language_info": {
   "codemirror_mode": {
    "name": "ipython",
    "version": 3
   },
   "file_extension": ".py",
   "mimetype": "text/x-python",
   "name": "python",
   "nbconvert_exporter": "python",
   "pygments_lexer": "ipython3",
   "version": "3.6.12"
  }
 },
 "nbformat": 4,
 "nbformat_minor": 5
}
