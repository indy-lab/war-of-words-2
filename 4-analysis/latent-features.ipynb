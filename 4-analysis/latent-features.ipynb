{
 "cells": [
  {
   "cell_type": "markdown",
   "metadata": {
    "cell_marker": "\"\"\""
   },
   "source": [
    "# Latent features"
   ]
  },
  {
   "cell_type": "code",
   "execution_count": 3,
   "metadata": {},
   "outputs": [],
   "source": [
    "import json\n",
    "import matplotlib.pyplot as plt\n",
    "import numpy as np\n",
    "\n",
    "from itertools import product\n",
    "from warofwords import Dataset\n",
    "from warofwords import TrainedWarOfWordsLatent\n",
    "\n",
    "from warofwords.plotting import sigconf_settings\n",
    "from sklearn.decomposition import PCA\n",
    "from sklearn.manifold import TSNE\n",
    "\n",
    "LEG = 8\n",
    "DATA = 'all_features'\n",
    "FEAT = 'latent-text'\n",
    "BASE = '/Users/kristof/GitHub/parl'"
   ]
  },
  {
   "cell_type": "markdown",
   "metadata": {
    "cell_marker": "\"\"\""
   },
   "source": [
    "## Load data"
   ]
  },
  {
   "cell_type": "code",
   "execution_count": 5,
   "metadata": {},
   "outputs": [],
   "source": [
    "dossier2title = dict()\n",
    "with open(f'{BASE}/data/data/helpers/ep{LEG}-dossier2title.json', 'r') as f:\n",
    "    for l in f.readlines():\n",
    "        d = json.loads(l)\n",
    "        for k, v in d.items():\n",
    "            dossier2title[k.replace('_', '-')] = v"
   ]
  },
  {
   "cell_type": "code",
   "execution_count": 24,
   "metadata": {},
   "outputs": [],
   "source": [
    "model = TrainedWarOfWordsLatent.load(f'{BASE}/public/war-of-words-2/2-training/trained-models/ep{LEG}-{DATA}-{FEAT}.predict')\n",
    "vec = model._vec\n",
    "parameters = model.parameters\n",
    "features = parameters._features"
   ]
  },
  {
   "cell_type": "code",
   "execution_count": 21,
   "metadata": {},
   "outputs": [],
   "source": [
    "meps = parameters._features.get_group('mep')\n",
    "doss = parameters._features.get_group('dossier')"
   ]
  },
  {
   "cell_type": "markdown",
   "metadata": {
    "cell_marker": "\"\"\""
   },
   "source": [
    "## PCA"
   ]
  },
  {
   "cell_type": "code",
   "execution_count": 31,
   "metadata": {},
   "outputs": [],
   "source": [
    "def get_dossiers(features, vec):\n",
    "    \"\"\"Get top (which='top') or bottom (which='bottom') dossiers.\"\"\"\n",
    "    doss = features.get_group('dossier')\n",
    "    return [features.get_name(d) for d in doss], vec[doss]"
   ]
  },
  {
   "cell_type": "code",
   "execution_count": 36,
   "metadata": {},
   "outputs": [],
   "source": [
    "doss_refs, vec_y = get_dossiers(features, vec)"
   ]
  },
  {
   "cell_type": "code",
   "execution_count": 37,
   "metadata": {},
   "outputs": [
    {
     "data": {
      "text/plain": [
       "PCA(n_components=10)"
      ]
     },
     "execution_count": 37,
     "metadata": {},
     "output_type": "execute_result"
    }
   ],
   "source": [
    "n_dims = 10\n",
    "pca = PCA(n_components=n_dims)\n",
    "pca.fit(vec_y)"
   ]
  },
  {
   "cell_type": "code",
   "execution_count": 38,
   "metadata": {},
   "outputs": [
    {
     "data": {
      "image/png": "[encoded data removed]",
      "text/plain": [
       "<Figure size 720x360 with 1 Axes>"
      ]
     },
     "metadata": {
      "needs_background": "light"
     },
     "output_type": "display_data"
    }
   ],
   "source": [
    "fig, ax = plt.subplots(figsize=(10, 5))\n",
    "ax.bar(range(n_dims), pca.explained_variance_ratio_)\n",
    "ax.set_title(\"Ratio of variance explained by each PCA dimension\")\n",
    "plt.show()"
   ]
  },
  {
   "cell_type": "code",
   "execution_count": 39,
   "metadata": {},
   "outputs": [],
   "source": [
    "def plot_pca(pca, vec_y, doss_refs, dim, which, n=10):\n",
    "    \"\"\"Order: which='top' or which='bottom'\"\"\"\n",
    "    coords = pca.transform(vec_y)\n",
    "    # Sorted according to coordinate along one PCA dimension.\n",
    "    idx = np.argsort(coords[:, dim])\n",
    "    # Get order.\n",
    "    if which == 'top':\n",
    "         rank = idx[::-1][:n]\n",
    "    elif which == 'bottom':\n",
    "         rank = idx[:n][::-1]\n",
    "    # Plot top-n.\n",
    "    for i in rank:\n",
    "        ref = doss_refs[i]\n",
    "        title = dossier2title[ref]\n",
    "        print(f'{coords[i, dim]:+.3f} {ref:<10} {title}\\n')"
   ]
  },
  {
   "cell_type": "code",
   "execution_count": 40,
   "metadata": {},
   "outputs": [
    {
     "name": "stdout",
     "output_type": "stream",
     "text": [
      "+2.135 A8-0198-2017 Extension of the duration of the European Fund for Strategic Investments as well as the introduction of technical enhancements for that Fund and the European Investment Advisory Hub\n",
      "\n",
      "+1.885 A8-0238-2016 Prospectus to be published when securities are offered to the public or admitted to trading\n",
      "\n",
      "+1.848 A8-0011-2016 Activities and supervision of institutions for occupational retirement provision (recast)\n",
      "\n",
      "+1.530 A8-0008-2017 Establishing a Union programme to support specific activities enhancing the involvement of consumers and other financial services end-users in Union policy making in the field of financial services for the period of 2017-2020\n",
      "\n",
      "+1.314 A8-0139-2015 European Fund for Strategic Investments\n",
      "\n",
      "+1.174 A8-0318-2017 European Electronic Communications Code (Recast)\n",
      "\n",
      "+1.016 A8-0296-2015 Proposal for a regulation of the European Parliament and of the Council amending the Statute of the Court of Justice of the European Union by increasing the number of judges at the General Court\n",
      "\n",
      "+0.850 A8-0316-2017 Union Resettlement Framework\n",
      "\n",
      "+0.785 A8-0135-2017 EU guarantee to the European Investment Bank against losses under financing operations supporting investment projects outside the Union\n",
      "\n",
      "+0.782 TRAN-AD(2018)623885 Establishing a European Labour Authority\n",
      "\n"
     ]
    }
   ],
   "source": [
    "plot_pca(pca, vec_y, doss_refs, dim=0, which='top')"
   ]
  },
  {
   "cell_type": "code",
   "execution_count": 41,
   "metadata": {},
   "outputs": [
    {
     "name": "stdout",
     "output_type": "stream",
     "text": [
      "-0.742 EMPL-AD(2017)601220 Preventive restructuring frameworks, second chance and measures to increase the efficiency of restructuring, insolvency and discharge procedures\n",
      "\n",
      "-0.769 LIBE-AD(2016)582370 Contracts for the supply of digital content\n",
      "\n",
      "-0.780 A8-0438-2018 Re-use of public sector information (recast)\n",
      "\n",
      "-0.786 A8-0322-2017 European Travel Information and Authorisation System (ETIAS) and amending Regulations (EU) No 515/2014, (EU) 2016/399 and (EU) 2016/1624\n",
      "\n",
      "-0.801 AFET-AD(2016)578500 Establishing an EU common list of safe countries of origin for the purposes of common procedures for granting and withdrawing international protection\n",
      "\n",
      "-0.814 BUDG-AD(2018)612357 Establishing the European Defence Industrial Development Programme aiming at supporting the competitiveness and innovative capacity of the EU defence industry\n",
      "\n",
      "-0.909 REGI-AD(2019)629571 Establishing the Instrument for Pre-accession Assistance (IPA III)\n",
      "\n",
      "-0.922 REGI-AD(2018)627807 Protection of the Union's budget in case of generalised deficiencies as regards the rule of law in the Member States\n",
      "\n",
      "-1.031 A8-0064-2017 Amendment to Directive 2004/37/EC on the protection of workers from the risks related to exposure to carcinogens or mutagens at work\n",
      "\n",
      "-1.926 A8-0057-2018 Proposal for a Directive of the European Parliament and of the Council to empower the competition authorities of the Member States to be more effective enforcers and to ensure the proper functioning of the internal market\n",
      "\n"
     ]
    }
   ],
   "source": [
    "plot_pca(pca, vec_y, doss_refs, dim=0, which='bottom')"
   ]
  },
  {
   "cell_type": "markdown",
   "metadata": {
    "cell_marker": "\"\"\""
   },
   "source": [
    "## t-SNE"
   ]
  },
  {
   "cell_type": "code",
   "execution_count": 114,
   "metadata": {},
   "outputs": [],
   "source": [
    "def plot_tsne(pca, vec_y, perplexity, seed=0, n=10):\n",
    "    coords = pca.transform(vec_y)\n",
    "    dims = [0, 1]\n",
    "    # Get dossiers (avoid double counting).\n",
    "    idx = set()\n",
    "    for dim in dims:\n",
    "        idx.update(np.argsort(coords[:,dim])[::-1][:n])\n",
    "        idx.update(np.argsort(coords[:,dim])[:n])\n",
    "    idx = np.array(list(idx))\n",
    "    print(f'Keeping {len(idx)} dossiers for projection')\n",
    "    \n",
    "    # Compute t-SNE\n",
    "    tsne = TSNE(perplexity=perplexity, random_state=seed)\n",
    "    embed = tsne.fit_transform(vec_y[idx,:])\n",
    "    plt.scatter(embed[:, 0],embed[:,1])\n",
    "    plt.show()\n",
    "    \n",
    "    return embed, coords, idx\n",
    "\n",
    "\n",
    "def display_dossiers(embed, coords, idx, doss_refs, x_lo, x_hi, y_lo, y_hi):\n",
    "    for i, (x, y) in zip(idx, embed):\n",
    "        cond_x = (x < x_hi) and (x > x_lo)\n",
    "        cond_y = (y < y_hi) and (y > y_lo)\n",
    "        if cond_x and cond_y:\n",
    "            ref = doss_refs[i]\n",
    "            title = dossier2title[ref]\n",
    "            print(f'{x:+.0f} {y:+.0f} {ref:<10} {title}\\n')"
   ]
  },
  {
   "cell_type": "code",
   "execution_count": 100,
   "metadata": {},
   "outputs": [
    {
     "name": "stdout",
     "output_type": "stream",
     "text": [
      "Seed: 29\n",
      "Keeping 37 dossiers for projection\n"
     ]
    },
    {
     "data": {
      "image/png": "[encoded data removed]",
      "text/plain": [
       "<Figure size 432x288 with 1 Axes>"
      ]
     },
     "metadata": {
      "needs_background": "light"
     },
     "output_type": "display_data"
    }
   ],
   "source": [
    "print(f'Seed: {seed}')\n",
    "embed, coords, idx = plot_tsne(pca, vec_y, perplexity=3, seed=4, n=10)"
   ]
  },
  {
   "cell_type": "code",
   "execution_count": 115,
   "metadata": {},
   "outputs": [
    {
     "name": "stdout",
     "output_type": "stream",
     "text": [
      "+121 +398 A8-0295-2018 Prudential supervision of investment firms\n",
      "\n",
      "+65 +175 EMPL-AD(2017)601220 Preventive restructuring frameworks, second chance and measures to increase the efficiency of restructuring, insolvency and discharge procedures\n",
      "\n",
      "+196 +326 A8-0421-2018 Establishing the \"Fiscalis\" programme for cooperation in the field of taxation\n",
      "\n",
      "+102 +213 LIBE-AD(2016)582370 Contracts for the supply of digital content\n",
      "\n",
      "+149 +265 AGRI-AD(2015)552126 Trade in seal products\n",
      "\n",
      "+67 +116 A8-0322-2017 European Travel Information and Authorisation System (ETIAS) and amending Regulations (EU) No 515/2014, (EU) 2016/399 and (EU) 2016/1624\n",
      "\n",
      "+169 +352 A8-0270-2015 Reduction of pollutant emissions from road vehicles\n",
      "\n",
      "+118 +246 TRAN-AD(2018)627011 Establishing the Digital Europe programme for the period 2021-2027\n",
      "\n",
      "+241 +315 A8-0139-2015 European Fund for Strategic Investments\n",
      "\n",
      "+193 +245 A8-0482-2018 Establishing the InvestEU Programme\n",
      "\n",
      "+104 +423 A8-0011-2019 European Union macro-prudential oversight of the financial system and establishing a European Systemic Risk Board\n",
      "\n"
     ]
    }
   ],
   "source": [
    "# Top.\n",
    "x_lo, x_hi = 0, 300\n",
    "y_lo, y_hi = 50, 500\n",
    "display_dossiers(embed, coords, idx, doss_refs, x_lo, x_hi, y_lo, y_hi)"
   ]
  },
  {
   "cell_type": "code",
   "execution_count": 117,
   "metadata": {},
   "outputs": [
    {
     "name": "stdout",
     "output_type": "stream",
     "text": [
      "+297 +18 TRAN-AD(2018)623885 Establishing a European Labour Authority\n",
      "\n",
      "+288 -125 A8-0238-2016 Prospectus to be published when securities are offered to the public or admitted to trading\n",
      "\n",
      "+265 -36 A8-0296-2015 Proposal for a regulation of the European Parliament and of the Council amending the Statute of the Court of Justice of the European Union by increasing the number of judges at the General Court\n",
      "\n",
      "+301 -90 A8-0008-2017 Establishing a Union programme to support specific activities enhancing the involvement of consumers and other financial services end-users in Union policy making in the field of financial services for the period of 2017-2020\n",
      "\n",
      "+246 -0 A8-0316-2017 Union Resettlement Framework\n",
      "\n",
      "+347 -84 A8-0198-2017 Extension of the duration of the European Fund for Strategic Investments as well as the introduction of technical enhancements for that Fund and the European Investment Advisory Hub\n",
      "\n",
      "+236 -44 A8-0135-2017 EU guarantee to the European Investment Bank against losses under financing operations supporting investment projects outside the Union\n",
      "\n",
      "+195 -67 A8-0011-2016 Activities and supervision of institutions for occupational retirement provision (recast)\n",
      "\n"
     ]
    }
   ],
   "source": [
    "# Right.\n",
    "x_lo, x_hi = 150, 400\n",
    "y_lo, y_hi = -200, 50\n",
    "display_dossiers(embed, coords, idx, doss_refs, x_lo, x_hi, y_lo, y_hi)"
   ]
  },
  {
   "cell_type": "code",
   "execution_count": 134,
   "metadata": {},
   "outputs": [
    {
     "name": "stdout",
     "output_type": "stream",
     "text": [
      "-133 -177 BUDG-AD(2018)612357 Establishing the European Defence Industrial Development Programme aiming at supporting the competitiveness and innovative capacity of the EU defence industry\n",
      "\n",
      "+31 -189 A8-0412-2018 Establishing the European Defence Fund\n",
      "\n",
      "-75 -265 REGI-AD(2018)627807 Protection of the Union's budget in case of generalised deficiencies as regards the rule of law in the Member States\n",
      "\n",
      "+72 -204 A8-0037-2018 Establishing the European Defence Industrial Development Programme aiming at supporting the competitiveness and innovative capacity of the EU defence industry\n",
      "\n",
      "-12 -179 A8-0064-2017 Amendment to Directive 2004/37/EC on the protection of workers from the risks related to exposure to carcinogens or mutagens at work\n",
      "\n",
      "-143 -249 A8-0057-2018 Proposal for a Directive of the European Parliament and of the Council to empower the competition authorities of the Member States to be more effective enforcers and to ensure the proper functioning of the internal market\n",
      "\n",
      "-97 -219 REGI-AD(2019)629571 Establishing the Instrument for Pre-accession Assistance (IPA III)\n",
      "\n",
      "-66 -207 AFET-AD(2016)578500 Establishing an EU common list of safe countries of origin for the purposes of common procedures for granting and withdrawing international protection\n",
      "\n"
     ]
    }
   ],
   "source": [
    "# Bottom.\n",
    "x_lo, x_hi = -200, 100\n",
    "y_lo, y_hi = -300, -150\n",
    "display_dossiers(embed, coords, idx, doss_refs, x_lo, x_hi, y_lo, y_hi)"
   ]
  },
  {
   "cell_type": "code",
   "execution_count": 135,
   "metadata": {},
   "outputs": [
    {
     "name": "stdout",
     "output_type": "stream",
     "text": [
      "-196 +77 A8-0199-2015 Protection of undisclosed know-how and business information (trade secrets) against their unlawful acquisition, use and disclosure\n",
      "\n",
      "-248 -79 AFET-AD(2018)616888 Establishing a framework for screening of foreign direct investments into the European Union\n",
      "\n",
      "-264 +83 REGI-AD(2018)626678 Establishing the Connecting Europe Facility\n",
      "\n",
      "-151 -4 A8-0305-2017 Body of European Regulators for Electronic Communications\n",
      "\n",
      "-218 -55 A8-0461-2018 European Social Fund Plus (ESF+)\n",
      "\n",
      "-325 +19 A8-0318-2017 European Electronic Communications Code (Recast)\n",
      "\n",
      "-297 -85 A8-0438-2018 Re-use of public sector information (recast)\n",
      "\n",
      "-247 +58 DEVE-AD(2018)626670 Unfair trading practices in business-to-business relationships in the food supply chain\n",
      "\n",
      "-200 -26 CULT-AD(2018)627580 Establishing the InvestEU Programme\n",
      "\n",
      "-278 +25 A8-0212-2017 Establishment of 'Eurodac' for the comparison of fingerprints for the effective application of Regulation (EU) No 604/2013, for identifying an illegally staying third-country national or stateless person and on requests for the comparison with Eurodac data by Member States' law enforcement authorities and Europol for law enforcement purposes (recast)\n",
      "\n"
     ]
    }
   ],
   "source": [
    "# Left.\n",
    "x_lo, x_hi = -400, -100\n",
    "y_lo, y_hi = -100, 100\n",
    "display_dossiers(embed, coords, idx, doss_refs, x_lo, x_hi, y_lo, y_hi)"
   ]
  },
  {
   "cell_type": "code",
   "execution_count": 140,
   "metadata": {},
   "outputs": [],
   "source": [
    "clusters = {\n",
    "   # Investment and Development.\n",
    "    'id': 0,  \n",
    "   # Social Security\n",
    "    'ss': 1,  \n",
    "   # Defense and Protection.\n",
    "    'dp': 2,  \n",
    "   # Economic Competitivity.\n",
    "    'ce': 3,  \n",
    "   # Others\n",
    "    'ot': 4,  \n",
    "}\n",
    "\n",
    "ref2cluster = {\n",
    "    # Top cluster: Investment and Development\n",
    "    'A8-0295-2018': 'id', # Investment firms\n",
    "    'EMPL-AD(2017)601220': 'id', # Discharge procedures, finance\n",
    "    'A8-0421-2018': 'id', # Fiscalis programme\n",
    "    'LIBE-AD(2016)582370': 'id', # Contracts for digital content\n",
    "    'AGRI-AD(2015)552126': 'id', # Trade seal products\n",
    "    'A8-0322-2017': 'ot', # Travel information system\n",
    "    'A8-0270-2015': 'id', # Pollutant emmissions from road vehicles\n",
    "    'TRAN-AD(2018)627011': 'id', # Digital europe programme\n",
    "    'A8-0139-2015': 'id', # Fund for strategic investments\n",
    "    'A8-0482-2018': 'id', # InvestEU\n",
    "    'A8-0011-2019': 'id', # Oversight of financial system\n",
    "     # Right cluster: Social Security\n",
    "    'TRAN-AD(2018)623885': 'ss', # Labour authority\n",
    "    'A8-0238-2016': 'ot', # Prospectus offered when securities offered to the public for trading\n",
    "    'A8-0296-2015': 'ss', # Increasing number of judges at ECJ general court\n",
    "    'A8-0008-2017': 'ss', # Involvement of consumers and end-users in financial services\n",
    "    'A8-0316-2017': 'ss', # Union Resettlement Framework (safe and lawful treatment for refugees)\n",
    "    'A8-0198-2017': 'ss', # Extension of European Fund for Strategic Investments\n",
    "    'A8-0135-2017': 'ss', # Limitation of risk of EIB for investments outside EU\n",
    "    'A8-0011-2016': 'ss', # Supervision of institution for retirement provision\n",
    "    # Bottom cluster: Defense and Protection\n",
    "    'BUDG-AD(2018)612357': 'dp', # Support of defense industry\n",
    "    'A8-0412-2018': 'dp', # European Defense Fund\n",
    "    'REGI-AD(2018)627807': 'dp', # Protection of budget in case of deficiencies\n",
    "    'A8-0037-2018': 'dp', # Support of defense industry\n",
    "    'A8-0064-2017': 'dp', # Protection of workers from carinogens\n",
    "    'A8-0057-2018': 'dp', # Enhance competition authorities for better internal market\n",
    "    'REGI-AD(2019)629571': 'dp', # Instrument for Pre-accession Assistance (IPA)\n",
    "    'AFET-AD(2016)578500': 'dp', # Safe countries and international protection\n",
    "    # Left cluster: Economic Competitiveness\n",
    "    'A8-0199-2015': 'ec', # Protection of trade secrets\n",
    "    'AFET-AD(2018)616888': 'ec', # Screening foreign direct investments\n",
    "    'REGI-AD(2018)626678': 'ec', # Connecting Europe Facility\n",
    "    'A8-0305-2017': 'ec', # Electronic Communications\n",
    "    'A8-0461-2018': 'ec', # Social Fund Plus\n",
    "    'A8-0318-2017': 'ec', # Electronic Communications Code\n",
    "    'A8-0438-2018': 'ec', # Re-use of public sector information\n",
    "    'DEVE-AD(2018)626670': 'ec', # Unfair trading in B2B in food supply chain\n",
    "    'A8-0212-2017': 'ot', # Eurodac: fingerprints to identify illegal third-country national\n",
    "    'CULT-AD(2018)627580': 'ec', # InvestEU\n",
    "}    \n",
    "\n",
    "colors = {\n",
    "    'dp': 'C3',\n",
    "    'ec': 'C1',\n",
    "    'ss': 'C2',\n",
    "    'id': 'C0',\n",
    "    'ot': 'lightgray',\n",
    "}\n",
    "\n",
    "markers = {\n",
    "    'dp': 'X',\n",
    "    'ec': 's',\n",
    "    'ss': 'v',\n",
    "    'id': 'o',\n",
    "    'ot': '.',\n",
    "}\n",
    "\n",
    "labels = [\n",
    "    r'Defense \\& Protection',\n",
    "    r'Investment \\& Development',\n",
    "    r'Social Security',\n",
    "    r'Economic Competitiveness',\n",
    "    r'Others'\n",
    "]"
   ]
  },
  {
   "cell_type": "code",
   "execution_count": 141,
   "metadata": {
    "scrolled": false
   },
   "outputs": [
    {
     "name": "stdout",
     "output_type": "stream",
     "text": [
      "Sigconf settings loaded!\n"
     ]
    },
    {
     "data": {
      "image/png": "[encoded data removed]",
      "text/plain": [
       "<Figure size 540x300 with 1 Axes>"
      ]
     },
     "metadata": {},
     "output_type": "display_data"
    }
   ],
   "source": [
    "sigconf_settings()\n",
    "fig, ax = plt.subplots(figsize=(3.6, 2.0))\n",
    "\n",
    "lines = dict()\n",
    "\n",
    "for i, (x, y) in zip(idx, embed):\n",
    "    ref = doss_refs[i]\n",
    "    cluster = ref2cluster[ref]\n",
    "    line = ax.plot(x, y, color=colors[cluster], marker=markers[cluster])\n",
    "    if cluster not in line:\n",
    "        lines[cluster] = line[0]\n",
    "    \n",
    "handles = [lines['dp'],\n",
    "           lines['id'],\n",
    "           lines['ss'],\n",
    "           lines['ec'],\n",
    "           lines['ot']]\n",
    "\n",
    "\n",
    "\n",
    "plt.legend(handles, labels,\n",
    "           loc='upper left',\n",
    "           frameon=True,\n",
    "           fontsize='x-small',\n",
    "#            bbox_to_anchor=(0.60,0.80)\n",
    "          )\n",
    "plt.tick_params(\n",
    "    axis='both',       # changes apply to the x-axis\n",
    "    which='both',      # both major and minor ticks are affected\n",
    "    bottom=False,      # ticks along the bottom edge are off\n",
    "    left=False,        # tickcs on the left edge are off\n",
    "    top=False,         # ticks along the top edge are off\n",
    "    labelbottom=False, # labels along the bottom edge are off\n",
    "    labelleft=False) # labels along the bottom edge are off\n",
    "# plt.title('t-SNE visualization of latent feature y_i')\n",
    "plt.tight_layout()\n",
    "plt.savefig('figures/tsne.pdf', bbox_inches='tight')\n",
    "plt.show()"
   ]
  },
  {
   "cell_type": "markdown",
   "metadata": {
    "cell_marker": "\"\"\""
   },
   "source": [
    "### Generate t-SNE plots for visual inspection"
   ]
  },
  {
   "cell_type": "code",
   "execution_count": null,
   "metadata": {
    "lines_to_next_cell": 1,
    "scrolled": false
   },
   "outputs": [],
   "source": [
    "ps = [4, 4.5, 5]\n",
    "ss = list(range(0, 20))\n",
    "for p, s in product(ps, ss):\n",
    "    print(p, s)\n",
    "    embed, coords, _ = plot_tsne(pca, vec_y, perplexity=p, seed=s, n=10)\n",
    "\n",
    "\n",
    "\n",
    "\n",
    "def get_dossiers(features, vec):\n",
    "    \"\"\"Get top dossiers and their latent features.\"\"\"\n",
    "    doss = features.get_group('dossier')\n",
    "    vec = vec[doss]\n",
    "    return [features.get_name(d) for d in doss], vec.numpy()\n",
    "\n",
    "\n",
    "def main():\n",
    "    # Load mapping to titles.\n",
    "    dossier2title = dict()\n",
    "    with open(f'{BASE}/scrp/data/ep{LEG}-dossier2title.json', 'r') as f:\n",
    "        for l in f.readlines():\n",
    "            d = json.loads(l)\n",
    "            for k, v in d.items():\n",
    "                dossier2title[k.replace('_', '-')] = v\n",
    "\n",
    "    # Get all dossiers and their latent features.\n",
    "    doss, vec_y = get_dossiers(features, vec)"
   ]
  },
  {
   "cell_type": "code",
   "execution_count": null,
   "metadata": {},
   "outputs": [],
   "source": [
    "n_dims = 20\n",
    "pca = PCA(n_components=n_dims)\n",
    "pca.fit(vec_y)"
   ]
  }
 ],
 "metadata": {
  "jupytext": {
   "cell_markers": "\"\"\""
  },
  "kernelspec": {
   "display_name": "Python 3",
   "language": "python",
   "name": "python3"
  },
  "language_info": {
   "codemirror_mode": {
    "name": "ipython",
    "version": 3
   },
   "file_extension": ".py",
   "mimetype": "text/x-python",
   "name": "python",
   "nbconvert_exporter": "python",
   "pygments_lexer": "ipython3",
   "version": "3.6.12"
  }
 },
 "nbformat": 4,
 "nbformat_minor": 2
}
