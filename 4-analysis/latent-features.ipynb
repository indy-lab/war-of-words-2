{
 "cells": [
  {
   "cell_type": "markdown",
   "metadata": {
    "cell_marker": "\"\"\""
   },
   "source": [
    "# Latent features"
   ]
  },
  {
   "cell_type": "code",
   "execution_count": 1,
   "metadata": {},
   "outputs": [],
   "source": [
    "import json\n",
    "import matplotlib.pyplot as plt\n",
    "import numpy as np\n",
    "\n",
    "from itertools import product\n",
    "from warofwords import Dataset\n",
    "from warofwords import TrainedWarOfWordsLatent\n",
    "\n",
    "from warofwords.plotting import sigconf_settings\n",
    "from sklearn.decomposition import PCA\n",
    "from sklearn.manifold import TSNE\n",
    "\n",
    "LEG = 8\n",
    "FEAT = 'all_features-latent-text'\n",
    "BASE = '/Users/kristof/GitHub/parl/public/war-of-words-2/'"
   ]
  },
  {
   "cell_type": "markdown",
   "metadata": {
    "cell_marker": "\"\"\""
   },
   "source": [
    "## Load data"
   ]
  },
  {
   "cell_type": "code",
   "execution_count": 2,
   "metadata": {},
   "outputs": [],
   "source": [
    "dossier2title = dict()\n",
    "with open(f'{BASE}/data/helpers/dossier-titles.json', 'r') as f:\n",
    "    dossier2title = json.load(f)"
   ]
  },
  {
   "cell_type": "code",
   "execution_count": 3,
   "metadata": {},
   "outputs": [],
   "source": [
    "model_path = f'{BASE}/2-training/trained-models/ep{LEG}-{FEAT}.fit'\n",
    "model = TrainedWarOfWordsLatent.load(model_path)\n",
    "vec = model._vec\n",
    "parameters = model.parameters\n",
    "features = parameters._features"
   ]
  },
  {
   "cell_type": "code",
   "execution_count": 4,
   "metadata": {},
   "outputs": [],
   "source": [
    "meps = parameters._features.get_group('mep')\n",
    "doss = parameters._features.get_group('dossier')"
   ]
  },
  {
   "cell_type": "markdown",
   "metadata": {
    "cell_marker": "\"\"\""
   },
   "source": [
    "## PCA"
   ]
  },
  {
   "cell_type": "code",
   "execution_count": 5,
   "metadata": {},
   "outputs": [],
   "source": [
    "def get_dossiers(features, vec):\n",
    "    \"\"\"Get top (which='top') or bottom (which='bottom') dossiers.\"\"\"\n",
    "    doss = features.get_group('dossier')\n",
    "    return [features.get_name(d) for d in doss], vec[doss]"
   ]
  },
  {
   "cell_type": "code",
   "execution_count": 6,
   "metadata": {},
   "outputs": [],
   "source": [
    "doss_refs, vec_y = get_dossiers(features, vec)"
   ]
  },
  {
   "cell_type": "code",
   "execution_count": 7,
   "metadata": {},
   "outputs": [
    {
     "data": {
      "text/plain": [
       "PCA(n_components=20)"
      ]
     },
     "execution_count": 7,
     "metadata": {},
     "output_type": "execute_result"
    }
   ],
   "source": [
    "n_dims = 20\n",
    "pca = PCA(n_components=n_dims)\n",
    "pca.fit(vec_y)"
   ]
  },
  {
   "cell_type": "code",
   "execution_count": 8,
   "metadata": {},
   "outputs": [
    {
     "data": {
      "image/png": "[encoded data removed]",
      "text/plain": [
       "<Figure size 720x360 with 1 Axes>"
      ]
     },
     "metadata": {
      "needs_background": "light"
     },
     "output_type": "display_data"
    }
   ],
   "source": [
    "fig, ax = plt.subplots(figsize=(10, 5))\n",
    "x = np.arange(n_dims) + 1\n",
    "ax.bar(x, pca.explained_variance_ratio_)\n",
    "ax.set_title(\"Ratio of variance explained by each PCA dimension\")\n",
    "ax.set_xticks(x)\n",
    "plt.show()"
   ]
  },
  {
   "cell_type": "code",
   "execution_count": 9,
   "metadata": {},
   "outputs": [],
   "source": [
    "def plot_pca(pca, vec_y, doss_refs, dim, which, n=10):\n",
    "    \"\"\"Order: which='top' or which='bottom'\"\"\"\n",
    "    coords = pca.transform(vec_y)\n",
    "    # Sorted according to coordinate along one PCA dimension.\n",
    "    idx = np.argsort(coords[:, dim])\n",
    "    # Get order.\n",
    "    if which == 'top':\n",
    "         rank = idx[::-1][:n]\n",
    "    elif which == 'bottom':\n",
    "         rank = idx[:n][::-1]\n",
    "    # Plot top-n.\n",
    "    for i in rank:\n",
    "        ref = doss_refs[i]\n",
    "        title = dossier2title[ref]\n",
    "        print(f'{coords[i, dim]:+.3f} {ref:<10} {title}\\n')"
   ]
  },
  {
   "cell_type": "code",
   "execution_count": 10,
   "metadata": {},
   "outputs": [
    {
     "name": "stdout",
     "output_type": "stream",
     "text": [
      "+2.074 A8-0318-2017 European Electronic Communications Code (Recast)\n",
      "\n",
      "+1.395 A8-0238-2016 Prospectus to be published when securities are offered to the public or admitted to trading\n",
      "\n",
      "+1.110 A8-0305-2017 Body of European Regulators for Electronic Communications\n",
      "\n",
      "+1.074 A8-0438-2018 Re-use of public sector information (recast)\n",
      "\n",
      "+0.965 A8-0056-2017 Prevention of the use of the financial system for the purposes of money laundering or terrorist financing\n",
      "\n",
      "+0.910 A8-0008-2017 Establishing a Union programme to support specific activities enhancing the involvement of consumers and other financial services end-users in Union policy making in the field of financial services for the period of 2017-2020\n",
      "\n",
      "+0.851 A8-0211-2017 Financial rules applicable to the general budget of the Union\n",
      "\n",
      "+0.847 A8-0409-2018 Establishing the Connecting Europe Facility\n",
      "\n",
      "+0.827 A8-0011-2019 European Union macro-prudential oversight of the financial system and establishing a European Systemic Risk Board\n",
      "\n",
      "+0.761 A8-0483-2018 Low carbon benchmarks and positive carbon impact benchmarks\n",
      "\n"
     ]
    }
   ],
   "source": [
    "plot_pca(pca, vec_y, doss_refs, dim=0, which='top')"
   ]
  },
  {
   "cell_type": "code",
   "execution_count": 11,
   "metadata": {},
   "outputs": [
    {
     "name": "stdout",
     "output_type": "stream",
     "text": [
      "-0.613 IMCO-AD(2015)546844 Single-member private limited liability companies\n",
      "\n",
      "-0.648 A8-0270-2015 Reduction of pollutant emissions from road vehicles\n",
      "\n",
      "-0.669 JURI-AD(2017)597525 Addressing geo-blocking and other forms of discrimination based on customers' nationality, place of residence or place of establishment within the internal market\n",
      "\n",
      "-0.689 ENVI-AD(2017)609648 Internal market for electricity (recast)\n",
      "\n",
      "-0.691 A8-0011-2016 Activities and supervision of institutions for occupational retirement provision (recast)\n",
      "\n",
      "-0.714 A8-0327-2016 Use of the 470-790 MHz frequency band in the Union\n",
      "\n",
      "-0.763 BUDG-AD(2018)612357 Establishing the European Defence Industrial Development Programme aiming at supporting the competitiveness and innovative capacity of the EU defence industry\n",
      "\n",
      "-0.869 A8-0139-2015 European Fund for Strategic Investments\n",
      "\n",
      "-1.135 A8-0482-2018 Establishing the InvestEU Programme\n",
      "\n",
      "-1.473 A8-0199-2015 Protection of undisclosed know-how and business information (trade secrets) against their unlawful acquisition, use and disclosure\n",
      "\n"
     ]
    }
   ],
   "source": [
    "plot_pca(pca, vec_y, doss_refs, dim=0, which='bottom')"
   ]
  },
  {
   "cell_type": "code",
   "execution_count": 12,
   "metadata": {},
   "outputs": [
    {
     "name": "stdout",
     "output_type": "stream",
     "text": [
      "+1.826 A8-0278-2018 Pan-European Personal Pension Product (PEPP)\n",
      "\n",
      "+1.700 A8-0011-2016 Activities and supervision of institutions for occupational retirement provision (recast)\n",
      "\n",
      "+0.826 A8-0317-2018 Reduction of the impact of certain plastic products on the environment\n",
      "\n",
      "+0.820 BUDG-AD(2018)612357 Establishing the European Defence Industrial Development Programme aiming at supporting the competitiveness and innovative capacity of the EU defence industry\n",
      "\n",
      "+0.730 TRAN-AD(2018)623885 Establishing a European Labour Authority\n",
      "\n",
      "+0.671 AFET-AD(2018)616888 Establishing a framework for screening of foreign direct investments into the European Union\n",
      "\n",
      "+0.653 A8-0321-2018 Promotion of clean and energy-efficient road transport vehicles\n",
      "\n",
      "+0.632 AFET-AD(2015)549344 Use of Passenger Name Record data (EU PNR)\n",
      "\n",
      "+0.605 CONT-AD(2018)627881 European Social Fund Plus (ESF+)\n",
      "\n",
      "+0.589 REGI-AD(2018)626678 Establishing the Connecting Europe Facility\n",
      "\n"
     ]
    }
   ],
   "source": [
    "plot_pca(pca, vec_y, doss_refs, dim=1, which='top')"
   ]
  },
  {
   "cell_type": "code",
   "execution_count": 13,
   "metadata": {},
   "outputs": [
    {
     "name": "stdout",
     "output_type": "stream",
     "text": [
      "-0.754 CULT-AD(2017)595592 Rules on the exercise of copyright and related rights applicable to certain online transmissions of broadcasting organisations and retransmissions of television and radio programmes\n",
      "\n",
      "-0.787 A8-0396-2017 Enforcement of the Directive 2006/123/EC on services in the internal market, laying down a notification procedure for authorisation schemes and requirements related to services, and amending Directive 2006/123/EC and Regulation (EU) No 1024/2012 on administrative cooperation through the Internal Market Information System\n",
      "\n",
      "-0.810 ENVI-AD(2018)627836 European Social Fund Plus (ESF+)\n",
      "\n",
      "-0.830 A8-0198-2017 Extension of the duration of the European Fund for Strategic Investments as well as the introduction of technical enhancements for that Fund and the European Investment Advisory Hub\n",
      "\n",
      "-0.837 A8-0021-2018 Definition, presentation and labelling of spirit drinks, the use of the names of spirit drinks in the presentation and labelling of other foodstuffs and the protection of geographical indications for spirit drinks\n",
      "\n",
      "-0.877 ENVI-AD(2018)630616 Low carbon benchmarks and positive carbon impact benchmarks\n",
      "\n",
      "-1.106 A8-0483-2018 Low carbon benchmarks and positive carbon impact benchmarks\n",
      "\n",
      "-1.282 A8-0037-2018 Establishing the European Defence Industrial Development Programme aiming at supporting the competitiveness and innovative capacity of the EU defence industry\n",
      "\n",
      "-1.320 A8-0139-2015 European Fund for Strategic Investments\n",
      "\n",
      "-1.486 A8-0412-2018 Establishing the European Defence Fund\n",
      "\n"
     ]
    }
   ],
   "source": [
    "plot_pca(pca, vec_y, doss_refs, dim=1, which='bottom')"
   ]
  },
  {
   "cell_type": "markdown",
   "metadata": {
    "cell_marker": "\"\"\""
   },
   "source": [
    "## t-SNE"
   ]
  },
  {
   "cell_type": "code",
   "execution_count": 14,
   "metadata": {},
   "outputs": [],
   "source": [
    "def plot_tsne(pca, vec_y, perplexity, seed=0, n=10):\n",
    "    coords = pca.transform(vec_y)\n",
    "    dims = [0, 1]\n",
    "    # Get dossiers (avoid double counting).\n",
    "    idx = set()\n",
    "    for dim in dims:\n",
    "        idx.update(np.argsort(coords[:,dim])[::-1][:n])\n",
    "        idx.update(np.argsort(coords[:,dim])[:n])\n",
    "    idx = np.array(list(idx))\n",
    "    print(f'Keeping {len(idx)} dossiers for projection')\n",
    "    \n",
    "    # Compute t-SNE\n",
    "    tsne = TSNE(perplexity=perplexity, random_state=seed)\n",
    "    embed = tsne.fit_transform(vec_y[idx,:])\n",
    "    plt.scatter(embed[:, 0],embed[:,1])\n",
    "    plt.show()\n",
    "    \n",
    "    return embed, coords, idx\n",
    "\n",
    "\n",
    "def display_dossiers(embed, coords, idx, doss_refs, x_lo, x_hi, y_lo, y_hi):\n",
    "    for i, (x, y) in zip(idx, embed):\n",
    "        cond_x = (x < x_hi) and (x > x_lo)\n",
    "        cond_y = (y < y_hi) and (y > y_lo)\n",
    "        if cond_x and cond_y:\n",
    "            ref = doss_refs[i]\n",
    "            title = dossier2title[ref]\n",
    "            print(f'{x:+.0f} {y:+.0f} {ref:<10} {title}\\n')"
   ]
  },
  {
   "cell_type": "code",
   "execution_count": 15,
   "metadata": {},
   "outputs": [
    {
     "name": "stdout",
     "output_type": "stream",
     "text": [
      "Seed: 21\n",
      "Perplexity: 3\n",
      "Keeping 36 dossiers for projection\n"
     ]
    },
    {
     "data": {
      "image/png": "[encoded data removed]",
      "text/plain": [
       "<Figure size 432x288 with 1 Axes>"
      ]
     },
     "metadata": {
      "needs_background": "light"
     },
     "output_type": "display_data"
    }
   ],
   "source": [
    "seed = 21\n",
    "perplexity = 3\n",
    "print(f'Seed: {seed}')\n",
    "print(f'Perplexity: {perplexity}')\n",
    "embed, coords, idx = plot_tsne(pca, vec_y, perplexity=perplexity, seed=seed, n=10)"
   ]
  },
  {
   "cell_type": "code",
   "execution_count": 16,
   "metadata": {},
   "outputs": [
    {
     "name": "stdout",
     "output_type": "stream",
     "text": [
      "-102 +307 CONT-AD(2018)627881 European Social Fund Plus (ESF+)\n",
      "\n",
      "-256 +275 A8-0238-2016 Prospectus to be published when securities are offered to the public or admitted to trading\n",
      "\n",
      "-98 +202 A8-0278-2018 Pan-European Personal Pension Product (PEPP)\n",
      "\n",
      "-208 +277 A8-0008-2017 Establishing a Union programme to support specific activities enhancing the involvement of consumers and other financial services end-users in Union policy making in the field of financial services for the period of 2017-2020\n",
      "\n",
      "-177 +402 A8-0305-2017 Body of European Regulators for Electronic Communications\n",
      "\n",
      "-137 +254 A8-0317-2018 Reduction of the impact of certain plastic products on the environment\n",
      "\n",
      "-77 +277 A8-0321-2018 Promotion of clean and energy-efficient road transport vehicles\n",
      "\n",
      "-130 +369 A8-0011-2019 European Union macro-prudential oversight of the financial system and establishing a European Systemic Risk Board\n",
      "\n"
     ]
    }
   ],
   "source": [
    "# Top-left.\n",
    "x_lo, x_hi = -400, -50\n",
    "y_lo, y_hi = 150, 500\n",
    "display_dossiers(embed, coords, idx, doss_refs, x_lo, x_hi, y_lo, y_hi)"
   ]
  },
  {
   "cell_type": "code",
   "execution_count": 17,
   "metadata": {},
   "outputs": [
    {
     "name": "stdout",
     "output_type": "stream",
     "text": [
      "+109 +297 BUDG-AD(2018)612357 Establishing the European Defence Industrial Development Programme aiming at supporting the competitiveness and innovative capacity of the EU defence industry\n",
      "\n",
      "-2 +318 TRAN-AD(2018)623885 Establishing a European Labour Authority\n",
      "\n",
      "+60 +258 AFET-AD(2018)616888 Establishing a framework for screening of foreign direct investments into the European Union\n",
      "\n",
      "+23 +255 REGI-AD(2018)626678 Establishing the Connecting Europe Facility\n",
      "\n",
      "+14 +131 A8-0211-2017 Financial rules applicable to the general budget of the Union\n",
      "\n",
      "+147 +334 A8-0011-2016 Activities and supervision of institutions for occupational retirement provision (recast)\n",
      "\n",
      "+8 +184 AFET-AD(2015)549344 Use of Passenger Name Record data (EU PNR)\n",
      "\n"
     ]
    }
   ],
   "source": [
    "# Top-right.\n",
    "x_lo, x_hi = -10, 200\n",
    "y_lo, y_hi = 0, 400\n",
    "display_dossiers(embed, coords, idx, doss_refs, x_lo, x_hi, y_lo, y_hi)"
   ]
  },
  {
   "cell_type": "code",
   "execution_count": 18,
   "metadata": {},
   "outputs": [
    {
     "name": "stdout",
     "output_type": "stream",
     "text": [
      "+105 -374 A8-0412-2018 Establishing the European Defence Fund\n",
      "\n",
      "+172 -147 A8-0396-2017 Enforcement of the Directive 2006/123/EC on services in the internal market, laying down a notification procedure for authorisation schemes and requirements related to services, and amending Directive 2006/123/EC and Regulation (EU) No 1024/2012 on administrative cooperation through the Internal Market Information System\n",
      "\n",
      "+217 -232 A8-0483-2018 Low carbon benchmarks and positive carbon impact benchmarks\n",
      "\n",
      "+169 -220 ENVI-AD(2018)630616 Low carbon benchmarks and positive carbon impact benchmarks\n",
      "\n",
      "+163 -370 A8-0037-2018 Establishing the European Defence Industrial Development Programme aiming at supporting the competitiveness and innovative capacity of the EU defence industry\n",
      "\n",
      "+216 -76 A8-0056-2017 Prevention of the use of the financial system for the purposes of money laundering or terrorist financing\n",
      "\n",
      "+86 -172 CULT-AD(2017)595592 Rules on the exercise of copyright and related rights applicable to certain online transmissions of broadcasting organisations and retransmissions of television and radio programmes\n",
      "\n",
      "+272 -66 A8-0318-2017 European Electronic Communications Code (Recast)\n",
      "\n",
      "+192 -17 A8-0438-2018 Re-use of public sector information (recast)\n",
      "\n",
      "+42 -297 A8-0139-2015 European Fund for Strategic Investments\n",
      "\n",
      "+97 -279 A8-0021-2018 Definition, presentation and labelling of spirit drinks, the use of the names of spirit drinks in the presentation and labelling of other foodstuffs and the protection of geographical indications for spirit drinks\n",
      "\n",
      "+133 -208 ENVI-AD(2018)627836 European Social Fund Plus (ESF+)\n",
      "\n",
      "+81 -413 A8-0409-2018 Establishing the Connecting Europe Facility\n",
      "\n"
     ]
    }
   ],
   "source": [
    "# Bottom-right.\n",
    "x_lo, x_hi = 0, 400\n",
    "y_lo, y_hi = -500, 0\n",
    "display_dossiers(embed, coords, idx, doss_refs, x_lo, x_hi, y_lo, y_hi)"
   ]
  },
  {
   "cell_type": "code",
   "execution_count": 19,
   "metadata": {},
   "outputs": [
    {
     "name": "stdout",
     "output_type": "stream",
     "text": [
      "-243 -36 A8-0199-2015 Protection of undisclosed know-how and business information (trade secrets) against their unlawful acquisition, use and disclosure\n",
      "\n",
      "-146 -148 JURI-AD(2017)597525 Addressing geo-blocking and other forms of discrimination based on customers' nationality, place of residence or place of establishment within the internal market\n",
      "\n",
      "-194 -59 A8-0327-2016 Use of the 470-790 MHz frequency band in the Union\n",
      "\n",
      "-199 -157 A8-0270-2015 Reduction of pollutant emissions from road vehicles\n",
      "\n",
      "-101 -52 ENVI-AD(2017)609648 Internal market for electricity (recast)\n",
      "\n",
      "-79 -169 A8-0198-2017 Extension of the duration of the European Fund for Strategic Investments as well as the introduction of technical enhancements for that Fund and the European Investment Advisory Hub\n",
      "\n",
      "-151 -228 A8-0482-2018 Establishing the InvestEU Programme\n",
      "\n",
      "-142 -87 IMCO-AD(2015)546844 Single-member private limited liability companies\n",
      "\n"
     ]
    }
   ],
   "source": [
    "# Bottom-left.\n",
    "x_lo, x_hi = -400, 0\n",
    "y_lo, y_hi = -300, 0\n",
    "display_dossiers(embed, coords, idx, doss_refs, x_lo, x_hi, y_lo, y_hi)"
   ]
  },
  {
   "cell_type": "code",
   "execution_count": 25,
   "metadata": {},
   "outputs": [],
   "source": [
    "clusters = {\n",
    "   # Social Security and Environment\n",
    "    'ss': 0,  \n",
    "   # Investment and Development\n",
    "    'id': 1,  \n",
    "   # Defense and Protection\n",
    "    'dp': 2,  \n",
    "   # Economic Competitiveness\n",
    "    'ec': 3,  \n",
    "   # Others\n",
    "    'ot': 4,  \n",
    "}\n",
    "\n",
    "ref2cluster = {\n",
    "    # Top-left: Social and Environmental Security\n",
    "    'CONT-AD(2018)627881': 'ss', # European Social Fund Plus\n",
    "    'A8-0238-2016': 'ot', # Prospectus offered when securities offered to the public for trading\n",
    "    'A8-0278-2018': 'ss', # Pan-European Personal Pension Product\n",
    "    'A8-0008-2017': 'ss', # Involvement of consumers and end-users in financial services\n",
    "    'A8-0305-2017': 'ss', # Electronic Communications\n",
    "    'A8-0317-2018': 'ss', # Reduction of the impact of certain plastic products on the environment\n",
    "    'A8-0321-2018': 'ss', # Promotion of clean and energy-efficient road transport vehicles\n",
    "    'A8-0011-2019': 'ss', # European Union macro-prudential oversight of the financial system\n",
    "     # Top-right cluster: Investment and Development\n",
    "    'BUDG-AD(2018)612357': 'id', # European Defence Industrial Development Programme for competitiveness of industry\n",
    "    'TRAN-AD(2018)623885': 'id', # European Labour Authority\n",
    "    'AFET-AD(2018)616888': 'id', # Establishing a framework for screening of foreign direct investments\n",
    "    'REGI-AD(2018)626678': 'id', # Connecting Europe Facility\n",
    "    'A8-0211-2017': 'id', # Financial rules applicable to the general budget of the Union\n",
    "    'A8-0011-2016': 'id', # Activities and supervision of institutions for occupational retirement provision\n",
    "    'AFET-AD(2015)549344': 'id', # Use of Passenger Name Record data\n",
    "    # Bottom-right cluster: Defense and Protection\n",
    "    'A8-0412-2018': 'dp', # European Defense Fund\n",
    "    'A8-0396-2017': 'dp', # Exchange of information between public authorities involved in the practical implementation of EU law\n",
    "    'A8-0483-2018': 'ot', # Low carbon benchmarks and positive carbon impact benchmarks\n",
    "    'ENVI-AD(2018)630616': 'ot', # Low carbon benchmarks and positive carbon impact benchmarks\n",
    "    'A8-0037-2018': 'dp', # European Defence Industrial Development Programme\n",
    "    'A8-0056-2017': 'dp', # Prevention of the use of the financial system for the purposes of money laundering or terrorist financing\n",
    "    'CULT-AD(2017)595592': 'dp', # Copyrights to certain online transmissions of broadcasting organisations\n",
    "    'A8-0318-2017': 'dp', # European Electronic Communications Code\n",
    "    'A8-0438-2018': 'dp', # Re-use of public sector information\n",
    "    'A8-0139-2015': 'dp', # European Fund for Strategic Investments\n",
    "    'A8-0021-2018': 'dp', # Definition, presentation and labelling of spirit drinks\n",
    "    'ENVI-AD(2018)627836': 'dp', # European Social Fund Plus (ESF+)\n",
    "    'A8-0409-2018': 'dp', # Establishing the Connecting Europe Facility\n",
    "    # Left cluster: Economic Competitiveness\n",
    "    'A8-0199-2015': 'ec', # Protection of trade secrets\n",
    "    'JURI-AD(2017)597525': 'ec', # Addressing geo-blocking and other forms of discrimination based on customers' nationality\n",
    "    'A8-0327-2016': 'ec', # Use of the 470-790 MHz frequency band\n",
    "    'A8-0270-2015': 'ec', # Reduction of pollutant emissions from road vehicles\n",
    "    'ENVI-AD(2017)609648': 'ec', # Internal market for electricity\n",
    "    'A8-0198-2017': 'ec', # Extension of the duration of the European Fund for Strategic Investments\n",
    "    'A8-0482-2018': 'ec', # Establishing the InvestEU Programme\n",
    "    'IMCO-AD(2015)546844': 'ec', # Facilitate establishment of single-shareholders companies\n",
    "}    \n",
    "\n",
    "\n",
    "colors = {\n",
    "    'dp': 'C3',\n",
    "    'ec': 'C1',\n",
    "    'ss': 'C2',\n",
    "    'id': 'C0',\n",
    "    'ot': 'lightgray',\n",
    "}\n",
    "\n",
    "markers = {\n",
    "    'dp': 'X',\n",
    "    'ec': 's',\n",
    "    'ss': 'v',\n",
    "    'id': 'o',\n",
    "    'ot': '.',\n",
    "}\n",
    "\n",
    "labels = [\n",
    "    r'SS\\&E',\n",
    "    r'I\\&D',\n",
    "    r'D\\&P',\n",
    "    r'EC',\n",
    "    r'Others',\n",
    "#     r'Defense \\& Protection',\n",
    "#     r'Investment \\& Development',\n",
    "#     r'Social Security',\n",
    "#     r'Economic Competitiveness',\n",
    "#     r'Others'\n",
    "]"
   ]
  },
  {
   "cell_type": "markdown",
   "metadata": {},
   "source": [
    "## Plot for paper"
   ]
  },
  {
   "cell_type": "code",
   "execution_count": 26,
   "metadata": {
    "scrolled": false
   },
   "outputs": [
    {
     "name": "stdout",
     "output_type": "stream",
     "text": [
      "Sigconf settings loaded!\n"
     ]
    },
    {
     "data": {
      "image/png": "[encoded data removed]",
      "text/plain": [
       "<Figure size 540x300 with 1 Axes>"
      ]
     },
     "metadata": {},
     "output_type": "display_data"
    }
   ],
   "source": [
    "sigconf_settings()\n",
    "fig, ax = plt.subplots(figsize=(3.6, 2.0))\n",
    "\n",
    "lines = dict()\n",
    "\n",
    "for i, (x, y) in zip(idx, embed):\n",
    "    ref = doss_refs[i]\n",
    "    cluster = ref2cluster[ref]\n",
    "    line = ax.plot(x, y, color=colors[cluster], marker=markers[cluster], markersize=5)\n",
    "    if cluster not in line:\n",
    "        lines[cluster] = line[0]\n",
    "    \n",
    "handles = [lines['ss'],\n",
    "           lines['id'],\n",
    "           lines['dp'],\n",
    "           lines['ec'],\n",
    "           lines['ot']]\n",
    "\n",
    "\n",
    "\n",
    "legend = plt.legend(handles, labels,\n",
    "           loc='best',\n",
    "           frameon=True,\n",
    "           fontsize='x-small',\n",
    "#            labelspacing=.2,\n",
    "#            bbox_to_anchor=(0.52,0.78)\n",
    "          )\n",
    "# Change the marker size manually for both lines.\n",
    "# for handle in legend.legendHandles:\n",
    "#     handle._legmarker.set_markersize(4)\n",
    "\n",
    "plt.tick_params(\n",
    "    axis='both',       # changes apply to the x-axis\n",
    "    which='both',      # both major and minor ticks are affected\n",
    "    bottom=False,      # ticks along the bottom edge are off\n",
    "    left=False,        # tickcs on the left edge are off\n",
    "    top=False,         # ticks along the top edge are off\n",
    "    labelbottom=False, # labels along the bottom edge are off\n",
    "    labelleft=False) # labels along the bottom edge are off\n",
    "# plt.title('t-SNE visualization of latent feature y_i')\n",
    "plt.tight_layout()\n",
    "plt.savefig('figures/tsne.pdf', bbox_inches='tight')\n",
    "plt.show()"
   ]
  },
  {
   "cell_type": "markdown",
   "metadata": {
    "cell_marker": "\"\"\""
   },
   "source": [
    "### Generate t-SNE plots for visual inspection"
   ]
  },
  {
   "cell_type": "code",
   "execution_count": null,
   "metadata": {
    "lines_to_next_cell": 1,
    "scrolled": false
   },
   "outputs": [],
   "source": [
    "ps = [2.5]\n",
    "# 3: 21, 22, 76\n",
    "# 2.5: 21, 41\n",
    "ss = list(range(0, 100))\n",
    "for p, s in product(ps, ss):\n",
    "    print(f'Seed: {s} - Perplexity: {p}')\n",
    "    embed, coords, _ = plot_tsne(pca, vec_y, perplexity=p, seed=s, n=10)"
   ]
  }
 ],
 "metadata": {
  "jupytext": {
   "cell_markers": "\"\"\""
  },
  "kernelspec": {
   "display_name": "Python 3",
   "language": "python",
   "name": "python3"
  },
  "language_info": {
   "codemirror_mode": {
    "name": "ipython",
    "version": 3
   },
   "file_extension": ".py",
   "mimetype": "text/x-python",
   "name": "python",
   "nbconvert_exporter": "python",
   "pygments_lexer": "ipython3",
   "version": "3.6.12"
  }
 },
 "nbformat": 4,
 "nbformat_minor": 2
}
