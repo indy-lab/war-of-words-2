{
 "cells": [
  {
   "cell_type": "markdown",
   "metadata": {
    "cell_marker": "\"\"\""
   },
   "source": [
    "# Latent features"
   ]
  },
  {
   "cell_type": "code",
   "execution_count": 1,
   "metadata": {},
   "outputs": [],
   "source": [
    "import json\n",
    "import matplotlib.pyplot as plt\n",
    "import numpy as np\n",
    "\n",
    "from itertools import product\n",
    "from warofwords import Dataset\n",
    "from warofwords import TrainedWarOfWordsLatent\n",
    "\n",
    "from warofwords.plotting import sigconf_settings\n",
    "from sklearn.decomposition import PCA\n",
    "from sklearn.manifold import TSNE\n",
    "\n",
    "LEG = 8\n",
    "FEAT = 'all_features-latent-text'\n",
    "BASE = '/Users/kristof/GitHub/parl/public/war-of-words-2/'"
   ]
  },
  {
   "cell_type": "markdown",
   "metadata": {
    "cell_marker": "\"\"\""
   },
   "source": [
    "## Load data"
   ]
  },
  {
   "cell_type": "code",
   "execution_count": 2,
   "metadata": {},
   "outputs": [],
   "source": [
    "dossier2title = dict()\n",
    "with open(f'{BASE}/data/helpers/dossier-titles.json', 'r') as f:\n",
    "    dossier2title = json.load(f)"
   ]
  },
  {
   "cell_type": "code",
   "execution_count": 3,
   "metadata": {},
   "outputs": [],
   "source": [
    "model_path = f'{BASE}/2-training/trained-models/ep{LEG}-{FEAT}.fit'\n",
    "model = TrainedWarOfWordsLatent.load(model_path)\n",
    "vec = model._vec\n",
    "parameters = model.parameters\n",
    "features = parameters._features"
   ]
  },
  {
   "cell_type": "code",
   "execution_count": 4,
   "metadata": {},
   "outputs": [],
   "source": [
    "meps = parameters._features.get_group('mep')\n",
    "doss = parameters._features.get_group('dossier')"
   ]
  },
  {
   "cell_type": "markdown",
   "metadata": {
    "cell_marker": "\"\"\""
   },
   "source": [
    "## PCA"
   ]
  },
  {
   "cell_type": "code",
   "execution_count": 5,
   "metadata": {},
   "outputs": [],
   "source": [
    "def get_dossiers(features, vec):\n",
    "    \"\"\"Get top (which='top') or bottom (which='bottom') dossiers.\"\"\"\n",
    "    doss = features.get_group('dossier')\n",
    "    return [features.get_name(d) for d in doss], vec[doss]"
   ]
  },
  {
   "cell_type": "code",
   "execution_count": 6,
   "metadata": {},
   "outputs": [],
   "source": [
    "doss_refs, vec_y = get_dossiers(features, vec)"
   ]
  },
  {
   "cell_type": "code",
   "execution_count": 7,
   "metadata": {},
   "outputs": [
    {
     "data": {
      "text/plain": [
       "PCA(n_components=20)"
      ]
     },
     "execution_count": 7,
     "metadata": {},
     "output_type": "execute_result"
    }
   ],
   "source": [
    "n_dims = 20\n",
    "pca = PCA(n_components=n_dims)\n",
    "pca.fit(vec_y)"
   ]
  },
  {
   "cell_type": "code",
   "execution_count": 8,
   "metadata": {},
   "outputs": [
    {
     "data": {
      "image/png": "[encoded data removed]",
      "text/plain": [
       "<Figure size 720x360 with 1 Axes>"
      ]
     },
     "metadata": {
      "needs_background": "light"
     },
     "output_type": "display_data"
    }
   ],
   "source": [
    "fig, ax = plt.subplots(figsize=(10, 5))\n",
    "x = np.arange(n_dims) + 1\n",
    "ax.bar(x, pca.explained_variance_ratio_)\n",
    "ax.set_title(\"Ratio of variance explained by each PCA dimension\")\n",
    "ax.set_xticks(x)\n",
    "plt.show()"
   ]
  },
  {
   "cell_type": "code",
   "execution_count": 9,
   "metadata": {},
   "outputs": [],
   "source": [
    "def plot_pca(pca, vec_y, doss_refs, dim, which, n=10):\n",
    "    \"\"\"Order: which='top' or which='bottom'\"\"\"\n",
    "    coords = pca.transform(vec_y)\n",
    "    # Sorted according to coordinate along one PCA dimension.\n",
    "    idx = np.argsort(coords[:, dim])\n",
    "    # Get order.\n",
    "    if which == 'top':\n",
    "         rank = idx[::-1][:n]\n",
    "    elif which == 'bottom':\n",
    "         rank = idx[:n][::-1]\n",
    "    # Plot top-n.\n",
    "    for i in rank:\n",
    "        ref = doss_refs[i]\n",
    "        title = dossier2title[ref]\n",
    "        print(f'{coords[i, dim]:+.3f} {ref:<10} {title}\\n')"
   ]
  },
  {
   "cell_type": "code",
   "execution_count": 10,
   "metadata": {},
   "outputs": [
    {
     "name": "stdout",
     "output_type": "stream",
     "text": [
      "+1.882 A8-0199-2015 Protection of undisclosed know-how and business information (trade secrets) against their unlawful acquisition, use and disclosure\n",
      "\n",
      "+1.632 A8-0409-2018 Establishing the Connecting Europe Facility\n",
      "\n",
      "+1.277 A8-0412-2018 Establishing the European Defence Fund\n",
      "\n",
      "+1.138 CULT-AD(2017)595592 Rules on the exercise of copyright and related rights applicable to certain online transmissions of broadcasting organisations and retransmissions of television and radio programmes\n",
      "\n",
      "+1.124 A8-0057-2018 Proposal for a Directive of the European Parliament and of the Council to empower the competition authorities of the Member States to be more effective enforcers and to ensure the proper functioning of the internal market\n",
      "\n",
      "+0.922 LIBE-AD(2018)620997 Import of cultural goods\n",
      "\n",
      "+0.754 A8-0442-2018 Rules facilitating the use of financial and other information for the prevention, detection, investigation or prosecution of certain criminal offences\n",
      "\n",
      "+0.735 A8-0355-2018 Transparent and predictable working conditions in the European Union\n",
      "\n",
      "+0.661 A8-0018-2018 Establishing a centralised system for the identification of Member States holding conviction information on third country nationals and stateless persons (TCN) to supplement and support the European Criminal Records Information System (ECRIS-TCN system)\n",
      "\n",
      "+0.649 A8-0244-2016 Establishing an EU common list of safe countries of origin for the purposes of common procedures for granting and withdrawing international protection\n",
      "\n"
     ]
    }
   ],
   "source": [
    "plot_pca(pca, vec_y, doss_refs, dim=0, which='top')"
   ]
  },
  {
   "cell_type": "code",
   "execution_count": 11,
   "metadata": {},
   "outputs": [
    {
     "name": "stdout",
     "output_type": "stream",
     "text": [
      "-0.705 A8-0438-2018 Re-use of public sector information (recast)\n",
      "\n",
      "-0.747 AGRI-AD(2017)604833 Promotion of the use of energy from renewable sources (recast)\n",
      "\n",
      "-0.770 AFET-AD(2018)612300 Establishing the European Defence Industrial Development Programme aiming at supporting the competitiveness and innovative capacity of the EU defence industry\n",
      "\n",
      "-0.986 A8-0278-2018 Pan-European Personal Pension Product (PEPP)\n",
      "\n",
      "-1.196 A8-0482-2018 Establishing the InvestEU Programme\n",
      "\n",
      "-1.228 A8-0238-2016 Prospectus to be published when securities are offered to the public or admitted to trading\n",
      "\n",
      "-1.259 A8-0318-2017 European Electronic Communications Code (Recast)\n",
      "\n",
      "-1.267 A8-0295-2018 Prudential supervision of investment firms\n",
      "\n",
      "-1.432 A8-0198-2017 Extension of the duration of the European Fund for Strategic Investments as well as the introduction of technical enhancements for that Fund and the European Investment Advisory Hub\n",
      "\n",
      "-1.485 A8-0011-2019 European Union macro-prudential oversight of the financial system and establishing a European Systemic Risk Board\n",
      "\n"
     ]
    }
   ],
   "source": [
    "plot_pca(pca, vec_y, doss_refs, dim=0, which='bottom')"
   ]
  },
  {
   "cell_type": "code",
   "execution_count": 12,
   "metadata": {},
   "outputs": [
    {
     "name": "stdout",
     "output_type": "stream",
     "text": [
      "+2.005 A8-0318-2017 European Electronic Communications Code (Recast)\n",
      "\n",
      "+1.244 A8-0068-2019 Justice programme\n",
      "\n",
      "+1.166 A8-0483-2018 Low carbon benchmarks and positive carbon impact benchmarks\n",
      "\n",
      "+1.058 A8-0025-2015 Amendment to the fuel quality directive and the renewable energy directive (Indirect Land Use Change)\n",
      "\n",
      "+0.920 A8-0305-2017 Body of European Regulators for Electronic Communications\n",
      "\n",
      "+0.883 A8-0037-2018 Establishing the European Defence Industrial Development Programme aiming at supporting the competitiveness and innovative capacity of the EU defence industry\n",
      "\n",
      "+0.844 A8-0363-2018 Disclosures relating to sustainable investments and sustainability risks\n",
      "\n",
      "+0.742 A8-0288-2015 Zootechnical and genealogical conditions for trade in and imports into the Union of breeding animals and their germinal products\n",
      "\n",
      "+0.710 ENVI-AD(2018)630616 Low carbon benchmarks and positive carbon impact benchmarks\n",
      "\n",
      "+0.702 A8-0313-2017 Protection of individuals with regard to the processing of personal data by the Union institutions, bodies, offices and agencies and on the free movement of such data\n",
      "\n"
     ]
    }
   ],
   "source": [
    "plot_pca(pca, vec_y, doss_refs, dim=1, which='top')"
   ]
  },
  {
   "cell_type": "code",
   "execution_count": 13,
   "metadata": {},
   "outputs": [
    {
     "name": "stdout",
     "output_type": "stream",
     "text": [
      "-0.661 EMPL-AD(2015)549263 European Fund for Strategic Investments\n",
      "\n",
      "-0.662 A8-0227-2018 Increase of the financial envelope of the Structural Reform Support Programme and adapt its general objective\n",
      "\n",
      "-0.669 A8-0211-2017 Financial rules applicable to the general budget of the Union\n",
      "\n",
      "-0.717 CULT-AD(2017)592366 Addressing geo-blocking and other forms of discrimination based on customers' nationality, place of residence or place of establishment within the internal market\n",
      "\n",
      "-0.726 A8-0199-2015 Protection of undisclosed know-how and business information (trade secrets) against their unlawful acquisition, use and disclosure\n",
      "\n",
      "-0.746 LIBE-AD(2017)604830 Copyright in the Digital Single Market\n",
      "\n",
      "-0.882 A8-0148-2015 Personal protective equipment\n",
      "\n",
      "-0.955 A8-0482-2018 Establishing the InvestEU Programme\n",
      "\n",
      "-1.313 A8-0278-2018 Pan-European Personal Pension Product (PEPP)\n",
      "\n",
      "-1.557 A8-0139-2015 European Fund for Strategic Investments\n",
      "\n"
     ]
    }
   ],
   "source": [
    "plot_pca(pca, vec_y, doss_refs, dim=1, which='bottom')"
   ]
  },
  {
   "cell_type": "markdown",
   "metadata": {
    "cell_marker": "\"\"\""
   },
   "source": [
    "## t-SNE"
   ]
  },
  {
   "cell_type": "code",
   "execution_count": 15,
   "metadata": {},
   "outputs": [],
   "source": [
    "def plot_tsne(pca, vec_y, perplexity, seed=0, n=10):\n",
    "    coords = pca.transform(vec_y)\n",
    "    dims = [0, 1]\n",
    "    # Get dossiers (avoid double counting).\n",
    "    idx = set()\n",
    "    for dim in dims:\n",
    "        idx.update(np.argsort(coords[:,dim])[::-1][:n])\n",
    "        idx.update(np.argsort(coords[:,dim])[:n])\n",
    "    idx = np.array(list(idx))\n",
    "    print(f'Keeping {len(idx)} dossiers for projection')\n",
    "    \n",
    "    # Compute t-SNE\n",
    "    tsne = TSNE(perplexity=perplexity, random_state=seed)\n",
    "    embed = tsne.fit_transform(vec_y[idx,:])\n",
    "    plt.scatter(embed[:, 0],embed[:,1])\n",
    "    plt.show()\n",
    "    \n",
    "    return embed, coords, idx\n",
    "\n",
    "\n",
    "def display_dossiers(embed, coords, idx, doss_refs, x_lo, x_hi, y_lo, y_hi):\n",
    "    for i, (x, y) in zip(idx, embed):\n",
    "        cond_x = (x < x_hi) and (x > x_lo)\n",
    "        cond_y = (y < y_hi) and (y > y_lo)\n",
    "        if cond_x and cond_y:\n",
    "            ref = doss_refs[i]\n",
    "            title = dossier2title[ref]\n",
    "            print(f'{x:+.0f} {y:+.0f} {ref:<10} {title}\\n')"
   ]
  },
  {
   "cell_type": "code",
   "execution_count": 16,
   "metadata": {},
   "outputs": [
    {
     "name": "stdout",
     "output_type": "stream",
     "text": [
      "Seed: 3\n",
      "Perplexity: 3\n",
      "Keeping 36 dossiers for projection\n"
     ]
    },
    {
     "data": {
      "image/png": "[encoded data removed]",
      "text/plain": [
       "<Figure size 432x288 with 1 Axes>"
      ]
     },
     "metadata": {
      "needs_background": "light"
     },
     "output_type": "display_data"
    }
   ],
   "source": [
    "seed = 3\n",
    "perplexity = 3\n",
    "print(f'Seed: {seed}')\n",
    "print(f'Perplexity: {perplexity}')\n",
    "embed, coords, idx = plot_tsne(pca, vec_y, perplexity=perplexity, seed=seed, n=10)"
   ]
  },
  {
   "cell_type": "code",
   "execution_count": 17,
   "metadata": {},
   "outputs": [
    {
     "name": "stdout",
     "output_type": "stream",
     "text": [
      "-350 +42 A8-0483-2018 Low carbon benchmarks and positive carbon impact benchmarks\n",
      "\n",
      "-225 -59 ENVI-AD(2018)630616 Low carbon benchmarks and positive carbon impact benchmarks\n",
      "\n",
      "-206 -30 A8-0025-2015 Amendment to the fuel quality directive and the renewable energy directive (Indirect Land Use Change)\n",
      "\n",
      "-55 -61 A8-0037-2018 Establishing the European Defence Industrial Development Programme aiming at supporting the competitiveness and innovative capacity of the EU defence industry\n",
      "\n",
      "-67 -8 A8-0305-2017 Body of European Regulators for Electronic Communications\n",
      "\n",
      "-77 +106 A8-0068-2019 Justice programme\n",
      "\n",
      "-184 +84 A8-0318-2017 European Electronic Communications Code (Recast)\n",
      "\n",
      "-124 -19 A8-0313-2017 Protection of individuals with regard to the processing of personal data by the Union institutions, bodies, offices and agencies and on the free movement of such data\n",
      "\n",
      "-134 -68 A8-0438-2018 Re-use of public sector information (recast)\n",
      "\n",
      "-142 +50 A8-0288-2015 Zootechnical and genealogical conditions for trade in and imports into the Union of breeding animals and their germinal products\n",
      "\n",
      "-371 +69 A8-0363-2018 Disclosures relating to sustainable investments and sustainability risks\n",
      "\n"
     ]
    }
   ],
   "source": [
    "# Top: Environment and Communications\n",
    "x_lo, x_hi = -400, 0\n",
    "y_lo, y_hi = -100, 200\n",
    "display_dossiers(embed, coords, idx, doss_refs, x_lo, x_hi, y_lo, y_hi)"
   ]
  },
  {
   "cell_type": "code",
   "execution_count": 22,
   "metadata": {},
   "outputs": [
    {
     "name": "stdout",
     "output_type": "stream",
     "text": [
      "+264 +39 A8-0199-2015 Protection of undisclosed know-how and business information (trade secrets) against their unlawful acquisition, use and disclosure\n",
      "\n",
      "+209 -79 A8-0412-2018 Establishing the European Defence Fund\n",
      "\n",
      "+180 -35 CULT-AD(2017)595592 Rules on the exercise of copyright and related rights applicable to certain online transmissions of broadcasting organisations and retransmissions of television and radio programmes\n",
      "\n",
      "+86 +83 A8-0442-2018 Rules facilitating the use of financial and other information for the prevention, detection, investigation or prosecution of certain criminal offences\n",
      "\n",
      "+74 +133 A8-0057-2018 Proposal for a Directive of the European Parliament and of the Council to empower the competition authorities of the Member States to be more effective enforcers and to ensure the proper functioning of the internal market\n",
      "\n",
      "+146 +1 A8-0244-2016 Establishing an EU common list of safe countries of origin for the purposes of common procedures for granting and withdrawing international protection\n",
      "\n",
      "+100 -30 A8-0211-2017 Financial rules applicable to the general budget of the Union\n",
      "\n",
      "+174 +48 A8-0018-2018 Establishing a centralised system for the identification of Member States holding conviction information on third country nationals and stateless persons (TCN) to supplement and support the European Criminal Records Information System (ECRIS-TCN system)\n",
      "\n",
      "+163 +100 A8-0355-2018 Transparent and predictable working conditions in the European Union\n",
      "\n",
      "+235 +125 A8-0409-2018 Establishing the Connecting Europe Facility\n",
      "\n",
      "+212 +46 LIBE-AD(2018)620997 Import of cultural goods\n",
      "\n"
     ]
    }
   ],
   "source": [
    "# Top-center: Defense and protection\n",
    "x_lo, x_hi = 0, 300\n",
    "y_lo, y_hi = -100, 200\n",
    "display_dossiers(embed, coords, idx, doss_refs, x_lo, x_hi, y_lo, y_hi)"
   ]
  },
  {
   "cell_type": "code",
   "execution_count": 25,
   "metadata": {},
   "outputs": [
    {
     "name": "stdout",
     "output_type": "stream",
     "text": [
      "+488 +17 A8-0238-2016 Prospectus to be published when securities are offered to the public or admitted to trading\n",
      "\n",
      "+360 -145 LIBE-AD(2017)604830 Copyright in the Digital Single Market\n",
      "\n",
      "+385 -62 EMPL-AD(2015)549263 European Fund for Strategic Investments\n",
      "\n",
      "+416 -112 A8-0227-2018 Increase of the financial envelope of the Structural Reform Support Programme and adapt its general objective\n",
      "\n",
      "+451 -104 CULT-AD(2017)592366 Addressing geo-blocking and other forms of discrimination based on customers' nationality, place of residence or place of establishment within the internal market\n",
      "\n",
      "+535 -46 A8-0198-2017 Extension of the duration of the European Fund for Strategic Investments as well as the introduction of technical enhancements for that Fund and the European Investment Advisory Hub\n",
      "\n",
      "+438 -174 A8-0139-2015 European Fund for Strategic Investments\n",
      "\n",
      "+482 -58 A8-0148-2015 Personal protective equipment\n",
      "\n"
     ]
    }
   ],
   "source": [
    "# Top-right: Investment and Development\n",
    "x_lo, x_hi = 300, 600\n",
    "y_lo, y_hi = -200, 100\n",
    "display_dossiers(embed, coords, idx, doss_refs, x_lo, x_hi, y_lo, y_hi)"
   ]
  },
  {
   "cell_type": "code",
   "execution_count": 28,
   "metadata": {},
   "outputs": [
    {
     "name": "stdout",
     "output_type": "stream",
     "text": [
      "-362 -304 A8-0295-2018 Prudential supervision of investment firms\n",
      "\n",
      "-237 -209 A8-0278-2018 Pan-European Personal Pension Product (PEPP)\n",
      "\n",
      "-182 -206 AGRI-AD(2017)604833 Promotion of the use of energy from renewable sources (recast)\n",
      "\n",
      "-180 -243 AFET-AD(2018)612300 Establishing the European Defence Industrial Development Programme aiming at supporting the competitiveness and innovative capacity of the EU defence industry\n",
      "\n",
      "-129 -267 A8-0482-2018 Establishing the InvestEU Programme\n",
      "\n",
      "-330 -312 A8-0011-2019 European Union macro-prudential oversight of the financial system and establishing a European Systemic Risk Board\n",
      "\n"
     ]
    }
   ],
   "source": [
    "# Bottom-left: Business and Innovation\n",
    "x_lo, x_hi = -400, -100\n",
    "y_lo, y_hi = -400, -100\n",
    "display_dossiers(embed, coords, idx, doss_refs, x_lo, x_hi, y_lo, y_hi)"
   ]
  },
  {
   "cell_type": "code",
   "execution_count": 40,
   "metadata": {},
   "outputs": [],
   "source": [
    "clusters = {\n",
    "   # Environment and Communications\n",
    "    'ec': 0,  \n",
    "   # Defense and Protection\n",
    "    'dp': 1,  \n",
    "   # Investment and Development\n",
    "    'id': 2,  \n",
    "   # Business and Innovation\n",
    "    'bi': 3,  \n",
    "   # Others\n",
    "    'ot': 4,  \n",
    "}\n",
    "\n",
    "\n",
    "ref2cluster = {\n",
    "    # Top-left: Environment and Communications\n",
    "    'A8-0483-2018': 'ec', # Low carbon benchmarks and positive carbon impact benchmarks\n",
    "    'ENVI-AD(2018)630616': 'ec', # Low carbon benchmarks and positive carbon impact benchmarks\n",
    "    'A8-0025-2015': 'ec', # Amendment to the fuel quality directive and the renewable energy directive (Indirect Land Use Change)\n",
    "    'A8-0037-2018': 'ot', # Establishing the European Defence Industrial Decelopment Programme aiming at supporting the competitiveness and innovative capacity of the EU defence industry\n",
    "    'A8-0305-2017': 'ec', # Body of European Regulators for Electronic Communications\n",
    "    'A8-0068-2019': 'ec', # Justice programme\n",
    "    'A8-0318-2017': 'ec', # European Electronic Communications Code (Recast)\n",
    "    'A8-0313-2017': 'ec', # Protection of individuals with regard to the processing of personal data by the Union institutions, bodies, offices and agencies and on the free movement of such data\n",
    "    'A8-0438-2018': 'ec', # Re-use of public sector information (recast)\n",
    "    'A8-0288-2015': 'ec', # Zootechnical and genealogical conditions for trade in and imports into the Union of breeding animals and their germinal products\n",
    "    'A8-0363-2018': 'ec', # Disclosures relating to sustainable investments and sustainability risks\n",
    "     # Top-center cluster: Defense and Protection\n",
    "    'A8-0199-2015': 'dp', # Protection of undisclosed know-how and business information (trade secrets) against their unlawful acquisition, use and disclosure\n",
    "    'A8-0412-2018': 'dp', # Establishing the European Defence Fund\n",
    "    'CULT-AD(2017)595592': 'dp', # Rules on the exercise of copyright and related rights applicable to certain online transmissions of broadcasting organisations and retransmissions of telecision and radio programmes\n",
    "    'A8-0442-2018': 'dp', # Rules facilitating the use of financial and other information for the precention, detection, investigation or prosecution of certain criminal offences\n",
    "    'A8-0057-2018': 'dp', # Proposal for a Directive of the European Parliament and of the Council to empower the competition authorities of the Member States to be more effective enforcers and to ensure the proper functioning of the internal market\n",
    "    'A8-0244-2016': 'dp', # Establishing an EU common list of safe countries of origin for the purposes of common procedures for granting and withdrawing international protection\n",
    "    'A8-0211-2017': 'ot', # Financial rules applicable to the general budget of the Union\n",
    "    'A8-0018-2018': 'dp', # Establishing a centralised system for the identification of Member States holding conviction information on third country nationals and stateless persons (TCN) to supplement and support the European Criminal Records Information System (ECRIS-TCN system)\n",
    "    'A8-0355-2018': 'dp', # Transparent and predictable working conditions in the European Union\n",
    "    'A8-0409-2018': 'ot', # Establishing the Connecting Europe Facility\n",
    "    'LIBE-AD(2018)620997': 'dp', # Import of cultural goods\n",
    "    # Top-right cluster: Investment and Decelopment\n",
    "    'A8-0238-2016': 'id', # Prospectus to be published when securities are offered to the public or admitted to trading\n",
    "    'LIBE-AD(2017)604830': 'id', # Copyright in the Digital Single Market\n",
    "    'EMPL-AD(2015)549263': 'id', # European Fund for Strategic Investments\n",
    "    'A8-0227-2018': 'id', # Increase of the financial envelope of the Structural Reform Support Programme and adapt its general objective\n",
    "    'CULT-AD(2017)592366': 'id', # Addressing geo-blocking and other forms of discrimination based on customers' nationality, place of residence or place of establishment within the internal market\n",
    "    'A8-0198-2017': 'id', # Extension of the duration of the European Fund for Strategic Investments as well as the introduction of technical enhancements for that Fund and the European Investment Advisory Hub\n",
    "    'A8-0139-2015': 'id', # European Fund for Strategic Investments\n",
    "    'A8-0148-2015': 'ot', # Personal protective equipment\n",
    "    # Bottom-left cluster: Business and Innovation\n",
    "    'A8-0295-2018': 'bi', # Prudential supervision of investment firms\n",
    "    'A8-0278-2018': 'bi', # Pan-European Personal Pension Product (PEPP)\n",
    "    'AGRI-AD(2017)604833': 'bi', # Promotion of the use of energy from renewable sources (recast)\n",
    "    'AFET-AD(2018)612300': 'bi', # Establishing the European Defence Industrial Decelopment Programme aiming at supporting the competitiveness and innovative capacity of the EU defence industry\n",
    "    'A8-0482-2018': 'bi', # Establishing the InvestEU Programme\n",
    "    'A8-0011-2019': 'bi', # European Union macro-prudential oversight of the financial system and establishing a European Systemic Risk Board\n",
    "}    \n",
    "\n",
    "\n",
    "colors = {\n",
    "    'dp': 'C3',\n",
    "    'bi': 'C1',\n",
    "    'ec': 'C2',\n",
    "    'id': 'C0',\n",
    "    'ot': 'lightgray',\n",
    "}\n",
    "\n",
    "markers = {\n",
    "    'dp': 'X',\n",
    "    'bi': 's',\n",
    "    'ec': 'v',\n",
    "    'id': 'o',\n",
    "    'ot': '.',\n",
    "}\n",
    "\n",
    "labels = [\n",
    "    r'E\\&C',\n",
    "    r'D\\&P',\n",
    "    r'I\\&D',\n",
    "    r'B\\&I',\n",
    "    r'Others',\n",
    "]"
   ]
  },
  {
   "cell_type": "markdown",
   "metadata": {
    "cell_marker": "\"\"\""
   },
   "source": [
    "## Plot for paper"
   ]
  },
  {
   "cell_type": "code",
   "execution_count": 44,
   "metadata": {
    "scrolled": false
   },
   "outputs": [
    {
     "name": "stdout",
     "output_type": "stream",
     "text": [
      "Sigconf settings loaded!\n"
     ]
    },
    {
     "data": {
      "image/png": "[encoded data removed]",
      "text/plain": [
       "<Figure size 540x300 with 1 Axes>"
      ]
     },
     "metadata": {},
     "output_type": "display_data"
    }
   ],
   "source": [
    "sigconf_settings()\n",
    "fig, ax = plt.subplots(figsize=(3.6, 2.0))\n",
    "\n",
    "lines = dict()\n",
    "\n",
    "for i, (x, y) in zip(idx, embed):\n",
    "    ref = doss_refs[i]\n",
    "    cluster = ref2cluster[ref]\n",
    "    line = ax.plot(x, y, color=colors[cluster], marker=markers[cluster], markersize=5)\n",
    "    if cluster not in line:\n",
    "        lines[cluster] = line[0]\n",
    "    \n",
    "handles = [lines['ec'],\n",
    "           lines['dp'],\n",
    "           lines['id'],\n",
    "           lines['bi'],\n",
    "           lines['ot']]\n",
    "\n",
    "\n",
    "\n",
    "legend = plt.legend(handles, labels,\n",
    "           loc='lower center',\n",
    "           frameon=True,\n",
    "           fontsize='x-small',\n",
    "#            labelspacing=.2,\n",
    "#            bbox_to_anchor=(0.52,0.78)\n",
    "          )\n",
    "# Change the marker size manually for both lines.\n",
    "# for handle in legend.legendHandles:\n",
    "#     handle._legmarker.set_markersize(4)\n",
    "\n",
    "plt.tick_params(\n",
    "    axis='both',       # changes apply to the x-axis\n",
    "    which='both',      # both major and minor ticks are affected\n",
    "    bottom=False,      # ticks along the bottom edge are off\n",
    "    left=False,        # tickcs on the left edge are off\n",
    "    top=False,         # ticks along the top edge are off\n",
    "    labelbottom=False, # labels along the bottom edge are off\n",
    "    labelleft=False) # labels along the bottom edge are off\n",
    "# plt.title('t-SNE visualization of latent feature y_i')\n",
    "plt.tight_layout()\n",
    "plt.savefig('figures/tsne.pdf', bbox_inches='tight')\n",
    "plt.show()"
   ]
  },
  {
   "cell_type": "markdown",
   "metadata": {
    "cell_marker": "\"\"\""
   },
   "source": [
    "### Generate t-SNE plots for visual inspection"
   ]
  },
  {
   "cell_type": "code",
   "execution_count": null,
   "metadata": {
    "lines_to_next_cell": 1,
    "scrolled": false
   },
   "outputs": [],
   "source": [
    "ps = [4]\n",
    "# 3: 3\n",
    "# 4: 10\n",
    "ss = list(range(9, 11))\n",
    "for p, s in product(ps, ss):\n",
    "    print(f'Seed: {s} - Perplexity: {p}')\n",
    "    embed, coords, _ = plot_tsne(pca, vec_y, perplexity=p, seed=s, n=10)"
   ]
  }
 ],
 "metadata": {
  "jupytext": {
   "cell_markers": "\"\"\""
  },
  "kernelspec": {
   "display_name": "Python 3",
   "language": "python",
   "name": "python3"
  },
  "language_info": {
   "codemirror_mode": {
    "name": "ipython",
    "version": 3
   },
   "file_extension": ".py",
   "mimetype": "text/x-python",
   "name": "python",
   "nbconvert_exporter": "python",
   "pygments_lexer": "ipython3",
   "version": "3.6.12"
  }
 },
 "nbformat": 4,
 "nbformat_minor": 2
}
